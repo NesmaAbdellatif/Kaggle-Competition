{
 "cells": [
  {
   "cell_type": "markdown",
   "id": "413ec813",
   "metadata": {
    "papermill": {
     "duration": 0.040558,
     "end_time": "2021-07-27T12:18:31.680740",
     "exception": false,
     "start_time": "2021-07-27T12:18:31.640182",
     "status": "completed"
    },
    "tags": []
   },
   "source": [
    "## You're here! \n",
    "Welcome to your first competition in the [ITI's AI Pro training program](https://ai.iti.gov.eg/epita/ai-engineer/)! We hope you enjoy and learn as much as we did prepairing this competition.\n",
    "\n",
    "\n",
    "## Introduction\n",
    "\n",
    "In the competition, it's required to predict the `Severity` of a car crash given info about the crash, e.g., location.\n",
    "\n",
    "This is the getting started notebook. Things are kept simple so that it's easier to understand the steps and modify it.\n",
    "\n",
    "Feel free to `Fork` this notebook and share it with your modifications **OR** use it to create your submissions.\n",
    "\n",
    "### Prerequisites\n",
    "You should know how to use python and a little bit of Machine Learning. You can apply the techniques you learned in the training program and submit the new solutions! \n",
    "\n",
    "### Checklist\n",
    "You can participate in this competition the way you perefer. However, I recommend following these steps if this is your first time joining a competition on Kaggle.\n",
    "\n",
    "* Fork this notebook and run the cells in order.\n",
    "* Submit this solution.\n",
    "* Make changes to the data processing step as you see fit.\n",
    "* Submit the new solutions.\n",
    "\n",
    "*You can submit up to 5 submissions per day. You can select only one of the submission you make to be considered in the final ranking.*\n",
    "\n",
    "\n",
    "Don't hesitate to leave a comment or contact me if you have any question!"
   ]
  },
  {
   "cell_type": "markdown",
   "id": "1dd96047",
   "metadata": {
    "papermill": {
     "duration": 0.038705,
     "end_time": "2021-07-27T12:18:31.759320",
     "exception": false,
     "start_time": "2021-07-27T12:18:31.720615",
     "status": "completed"
    },
    "tags": []
   },
   "source": [
    "## Import the libraries\n",
    "\n",
    "We'll use `pandas` to load and manipulate the data. Other libraries will be imported in the relevant sections."
   ]
  },
  {
   "cell_type": "code",
   "execution_count": null,
   "id": "f3ca608f",
   "metadata": {
    "papermill": {
     "duration": 0.03971,
     "end_time": "2021-07-27T12:18:31.839271",
     "exception": false,
     "start_time": "2021-07-27T12:18:31.799561",
     "status": "completed"
    },
    "tags": []
   },
   "outputs": [],
   "source": []
  },
  {
   "cell_type": "code",
   "execution_count": 1,
   "id": "d34cdfa5",
   "metadata": {
    "_cell_guid": "b1076dfc-b9ad-4769-8c92-a6c4dae69d19",
    "_uuid": "8f2839f25d086af736a60e9eeb907d3b93b6e0e5",
    "execution": {
     "iopub.execute_input": "2021-07-27T12:18:31.929943Z",
     "iopub.status.busy": "2021-07-27T12:18:31.929333Z",
     "iopub.status.idle": "2021-07-27T12:18:31.934063Z",
     "shell.execute_reply": "2021-07-27T12:18:31.933476Z",
     "shell.execute_reply.started": "2021-07-27T12:17:52.033566Z"
    },
    "papermill": {
     "duration": 0.055523,
     "end_time": "2021-07-27T12:18:31.934216",
     "exception": false,
     "start_time": "2021-07-27T12:18:31.878693",
     "status": "completed"
    },
    "tags": []
   },
   "outputs": [
    {
     "name": "stdout",
     "output_type": "stream",
     "text": [
      "1.2.4\n"
     ]
    }
   ],
   "source": [
    "import pandas as pd\n",
    "import numpy as np \n",
    "import os\n",
    "print(pd.__version__)"
   ]
  },
  {
   "cell_type": "markdown",
   "id": "47274aa7",
   "metadata": {
    "papermill": {
     "duration": 0.039863,
     "end_time": "2021-07-27T12:18:32.014201",
     "exception": false,
     "start_time": "2021-07-27T12:18:31.974338",
     "status": "completed"
    },
    "tags": []
   },
   "source": [
    "## Exploratory Data Analysis\n",
    "In this step, one should load the data and analyze it. However, I'll load the data and do minimal analysis. You are encouraged to do thorough analysis!\n",
    "\n",
    "Let's load the data using `pandas` and have a look at the generated `DataFrame`."
   ]
  },
  {
   "cell_type": "code",
   "execution_count": 2,
   "id": "4dd187fa",
   "metadata": {
    "execution": {
     "iopub.execute_input": "2021-07-27T12:18:32.099482Z",
     "iopub.status.busy": "2021-07-27T12:18:32.098882Z",
     "iopub.status.idle": "2021-07-27T12:18:32.263050Z",
     "shell.execute_reply": "2021-07-27T12:18:32.263533Z",
     "shell.execute_reply.started": "2021-07-27T12:17:52.051261Z"
    },
    "papermill": {
     "duration": 0.209472,
     "end_time": "2021-07-27T12:18:32.263691",
     "exception": false,
     "start_time": "2021-07-27T12:18:32.054219",
     "status": "completed"
    },
    "tags": []
   },
   "outputs": [
    {
     "name": "stdout",
     "output_type": "stream",
     "text": [
      "The shape of the dataset is (6407, 16).\n",
      "\n",
      "\n"
     ]
    },
    {
     "data": {
      "text/html": [
       "<div>\n",
       "<style scoped>\n",
       "    .dataframe tbody tr th:only-of-type {\n",
       "        vertical-align: middle;\n",
       "    }\n",
       "\n",
       "    .dataframe tbody tr th {\n",
       "        vertical-align: top;\n",
       "    }\n",
       "\n",
       "    .dataframe thead th {\n",
       "        text-align: right;\n",
       "    }\n",
       "</style>\n",
       "<table border=\"1\" class=\"dataframe\">\n",
       "  <thead>\n",
       "    <tr style=\"text-align: right;\">\n",
       "      <th></th>\n",
       "      <th>ID</th>\n",
       "      <th>Lat</th>\n",
       "      <th>Lng</th>\n",
       "      <th>Bump</th>\n",
       "      <th>Distance(mi)</th>\n",
       "      <th>Crossing</th>\n",
       "      <th>Give_Way</th>\n",
       "      <th>Junction</th>\n",
       "      <th>No_Exit</th>\n",
       "      <th>Railway</th>\n",
       "      <th>Roundabout</th>\n",
       "      <th>Stop</th>\n",
       "      <th>Amenity</th>\n",
       "      <th>Side</th>\n",
       "      <th>Severity</th>\n",
       "      <th>timestamp</th>\n",
       "    </tr>\n",
       "  </thead>\n",
       "  <tbody>\n",
       "    <tr>\n",
       "      <th>0</th>\n",
       "      <td>0</td>\n",
       "      <td>37.762150</td>\n",
       "      <td>-122.405660</td>\n",
       "      <td>False</td>\n",
       "      <td>0.044</td>\n",
       "      <td>False</td>\n",
       "      <td>False</td>\n",
       "      <td>False</td>\n",
       "      <td>False</td>\n",
       "      <td>False</td>\n",
       "      <td>False</td>\n",
       "      <td>False</td>\n",
       "      <td>True</td>\n",
       "      <td>R</td>\n",
       "      <td>2</td>\n",
       "      <td>2016-03-25 15:13:02</td>\n",
       "    </tr>\n",
       "    <tr>\n",
       "      <th>1</th>\n",
       "      <td>1</td>\n",
       "      <td>37.719157</td>\n",
       "      <td>-122.448254</td>\n",
       "      <td>False</td>\n",
       "      <td>0.000</td>\n",
       "      <td>False</td>\n",
       "      <td>False</td>\n",
       "      <td>False</td>\n",
       "      <td>False</td>\n",
       "      <td>False</td>\n",
       "      <td>False</td>\n",
       "      <td>False</td>\n",
       "      <td>False</td>\n",
       "      <td>R</td>\n",
       "      <td>2</td>\n",
       "      <td>2020-05-05 19:23:00</td>\n",
       "    </tr>\n",
       "    <tr>\n",
       "      <th>2</th>\n",
       "      <td>2</td>\n",
       "      <td>37.808498</td>\n",
       "      <td>-122.366852</td>\n",
       "      <td>False</td>\n",
       "      <td>0.000</td>\n",
       "      <td>False</td>\n",
       "      <td>False</td>\n",
       "      <td>False</td>\n",
       "      <td>False</td>\n",
       "      <td>False</td>\n",
       "      <td>False</td>\n",
       "      <td>True</td>\n",
       "      <td>False</td>\n",
       "      <td>R</td>\n",
       "      <td>3</td>\n",
       "      <td>2016-09-16 19:57:16</td>\n",
       "    </tr>\n",
       "    <tr>\n",
       "      <th>3</th>\n",
       "      <td>3</td>\n",
       "      <td>37.785930</td>\n",
       "      <td>-122.391080</td>\n",
       "      <td>False</td>\n",
       "      <td>0.009</td>\n",
       "      <td>False</td>\n",
       "      <td>False</td>\n",
       "      <td>True</td>\n",
       "      <td>False</td>\n",
       "      <td>False</td>\n",
       "      <td>False</td>\n",
       "      <td>False</td>\n",
       "      <td>False</td>\n",
       "      <td>R</td>\n",
       "      <td>1</td>\n",
       "      <td>2020-03-29 19:48:43</td>\n",
       "    </tr>\n",
       "    <tr>\n",
       "      <th>4</th>\n",
       "      <td>4</td>\n",
       "      <td>37.719141</td>\n",
       "      <td>-122.448457</td>\n",
       "      <td>False</td>\n",
       "      <td>0.000</td>\n",
       "      <td>False</td>\n",
       "      <td>False</td>\n",
       "      <td>False</td>\n",
       "      <td>False</td>\n",
       "      <td>False</td>\n",
       "      <td>False</td>\n",
       "      <td>False</td>\n",
       "      <td>False</td>\n",
       "      <td>R</td>\n",
       "      <td>2</td>\n",
       "      <td>2019-10-09 08:47:00</td>\n",
       "    </tr>\n",
       "  </tbody>\n",
       "</table>\n",
       "</div>"
      ],
      "text/plain": [
       "   ID        Lat         Lng   Bump  Distance(mi)  Crossing  Give_Way  \\\n",
       "0   0  37.762150 -122.405660  False         0.044     False     False   \n",
       "1   1  37.719157 -122.448254  False         0.000     False     False   \n",
       "2   2  37.808498 -122.366852  False         0.000     False     False   \n",
       "3   3  37.785930 -122.391080  False         0.009     False     False   \n",
       "4   4  37.719141 -122.448457  False         0.000     False     False   \n",
       "\n",
       "   Junction  No_Exit  Railway  Roundabout   Stop  Amenity Side  Severity  \\\n",
       "0     False    False    False       False  False     True    R         2   \n",
       "1     False    False    False       False  False    False    R         2   \n",
       "2     False    False    False       False   True    False    R         3   \n",
       "3      True    False    False       False  False    False    R         1   \n",
       "4     False    False    False       False  False    False    R         2   \n",
       "\n",
       "             timestamp  \n",
       "0  2016-03-25 15:13:02  \n",
       "1  2020-05-05 19:23:00  \n",
       "2  2016-09-16 19:57:16  \n",
       "3  2020-03-29 19:48:43  \n",
       "4  2019-10-09 08:47:00  "
      ]
     },
     "execution_count": 2,
     "metadata": {},
     "output_type": "execute_result"
    }
   ],
   "source": [
    "dataset_path = '/kaggle/input/car-crashes-severity-prediction/'\n",
    "\n",
    "df = pd.read_csv(os.path.join(dataset_path, 'train.csv'))\n",
    "\n",
    "\n",
    "\n",
    "print(\"The shape of the dataset is {}.\\n\\n\".format(df.shape))\n",
    "\n",
    "df.head()"
   ]
  },
  {
   "cell_type": "markdown",
   "id": "2cac82a3",
   "metadata": {
    "papermill": {
     "duration": 0.040063,
     "end_time": "2021-07-27T12:18:32.344436",
     "exception": false,
     "start_time": "2021-07-27T12:18:32.304373",
     "status": "completed"
    },
    "tags": []
   },
   "source": [
    "We've got 6407 examples in the dataset with 14 featues, 1 ID, and the `Severity` of the crash.\n",
    "\n",
    "By looking at the features and a sample from the data, the features look of numerical and catogerical types. What about some descriptive statistics?"
   ]
  },
  {
   "cell_type": "code",
   "execution_count": 3,
   "id": "67866230",
   "metadata": {
    "execution": {
     "iopub.execute_input": "2021-07-27T12:18:32.436942Z",
     "iopub.status.busy": "2021-07-27T12:18:32.435960Z",
     "iopub.status.idle": "2021-07-27T12:18:32.473216Z",
     "shell.execute_reply": "2021-07-27T12:18:32.472638Z",
     "shell.execute_reply.started": "2021-07-27T12:17:52.103534Z"
    },
    "papermill": {
     "duration": 0.088356,
     "end_time": "2021-07-27T12:18:32.473364",
     "exception": false,
     "start_time": "2021-07-27T12:18:32.385008",
     "status": "completed"
    },
    "tags": []
   },
   "outputs": [
    {
     "data": {
      "text/html": [
       "<div>\n",
       "<style scoped>\n",
       "    .dataframe tbody tr th:only-of-type {\n",
       "        vertical-align: middle;\n",
       "    }\n",
       "\n",
       "    .dataframe tbody tr th {\n",
       "        vertical-align: top;\n",
       "    }\n",
       "\n",
       "    .dataframe thead th {\n",
       "        text-align: right;\n",
       "    }\n",
       "</style>\n",
       "<table border=\"1\" class=\"dataframe\">\n",
       "  <thead>\n",
       "    <tr style=\"text-align: right;\">\n",
       "      <th></th>\n",
       "      <th>Lat</th>\n",
       "      <th>Lng</th>\n",
       "      <th>Distance(mi)</th>\n",
       "      <th>Severity</th>\n",
       "    </tr>\n",
       "  </thead>\n",
       "  <tbody>\n",
       "    <tr>\n",
       "      <th>count</th>\n",
       "      <td>6407.000000</td>\n",
       "      <td>6407.000000</td>\n",
       "      <td>6407.000000</td>\n",
       "      <td>6407.000000</td>\n",
       "    </tr>\n",
       "    <tr>\n",
       "      <th>mean</th>\n",
       "      <td>37.765653</td>\n",
       "      <td>-122.405990</td>\n",
       "      <td>0.135189</td>\n",
       "      <td>2.293429</td>\n",
       "    </tr>\n",
       "    <tr>\n",
       "      <th>std</th>\n",
       "      <td>0.032555</td>\n",
       "      <td>0.028275</td>\n",
       "      <td>0.396360</td>\n",
       "      <td>0.521225</td>\n",
       "    </tr>\n",
       "    <tr>\n",
       "      <th>min</th>\n",
       "      <td>37.609619</td>\n",
       "      <td>-122.510440</td>\n",
       "      <td>0.000000</td>\n",
       "      <td>1.000000</td>\n",
       "    </tr>\n",
       "    <tr>\n",
       "      <th>25%</th>\n",
       "      <td>37.737096</td>\n",
       "      <td>-122.412210</td>\n",
       "      <td>0.000000</td>\n",
       "      <td>2.000000</td>\n",
       "    </tr>\n",
       "    <tr>\n",
       "      <th>50%</th>\n",
       "      <td>37.768238</td>\n",
       "      <td>-122.404835</td>\n",
       "      <td>0.000000</td>\n",
       "      <td>2.000000</td>\n",
       "    </tr>\n",
       "    <tr>\n",
       "      <th>75%</th>\n",
       "      <td>37.787813</td>\n",
       "      <td>-122.392477</td>\n",
       "      <td>0.041000</td>\n",
       "      <td>3.000000</td>\n",
       "    </tr>\n",
       "    <tr>\n",
       "      <th>max</th>\n",
       "      <td>37.825626</td>\n",
       "      <td>-122.349734</td>\n",
       "      <td>6.820000</td>\n",
       "      <td>4.000000</td>\n",
       "    </tr>\n",
       "  </tbody>\n",
       "</table>\n",
       "</div>"
      ],
      "text/plain": [
       "               Lat          Lng  Distance(mi)     Severity\n",
       "count  6407.000000  6407.000000   6407.000000  6407.000000\n",
       "mean     37.765653  -122.405990      0.135189     2.293429\n",
       "std       0.032555     0.028275      0.396360     0.521225\n",
       "min      37.609619  -122.510440      0.000000     1.000000\n",
       "25%      37.737096  -122.412210      0.000000     2.000000\n",
       "50%      37.768238  -122.404835      0.000000     2.000000\n",
       "75%      37.787813  -122.392477      0.041000     3.000000\n",
       "max      37.825626  -122.349734      6.820000     4.000000"
      ]
     },
     "execution_count": 3,
     "metadata": {},
     "output_type": "execute_result"
    }
   ],
   "source": [
    "df.drop(columns='ID').describe()"
   ]
  },
  {
   "cell_type": "markdown",
   "id": "51834d81",
   "metadata": {
    "papermill": {
     "duration": 0.043882,
     "end_time": "2021-07-27T12:18:32.571700",
     "exception": false,
     "start_time": "2021-07-27T12:18:32.527818",
     "status": "completed"
    },
    "tags": []
   },
   "source": [
    "The output shows desciptive statistics for the numerical features, `Lat`, `Lng`, `Distance(mi)`, and `Severity`. I'll use the numerical features to demonstrate how to train the model and make submissions. **However you shouldn't use the numerical features only to make the final submission if you want to make it to the top of the leaderboard.**"
   ]
  },
  {
   "cell_type": "code",
   "execution_count": 4,
   "id": "053bc249",
   "metadata": {
    "execution": {
     "iopub.execute_input": "2021-07-27T12:18:32.666467Z",
     "iopub.status.busy": "2021-07-27T12:18:32.665159Z",
     "iopub.status.idle": "2021-07-27T12:18:32.678016Z",
     "shell.execute_reply": "2021-07-27T12:18:32.678460Z",
     "shell.execute_reply.started": "2021-07-27T12:17:52.132269Z"
    },
    "papermill": {
     "duration": 0.066201,
     "end_time": "2021-07-27T12:18:32.678626",
     "exception": false,
     "start_time": "2021-07-27T12:18:32.612425",
     "status": "completed"
    },
    "tags": []
   },
   "outputs": [],
   "source": [
    "df['f_Crossing'] , _   = pd.factorize(df['Crossing'])\n",
    "df['f_Bump'] , _       = pd.factorize(df['Bump'])\n",
    "df['f_Give_Way'] , _   = pd.factorize(df['Give_Way'])\n",
    "df['f_Junction'] , _   = pd.factorize(df['Junction'])\n",
    "df['f_No_Exit'] , _    = pd.factorize(df['No_Exit'])\n",
    "df['f_Railway'] , _    = pd.factorize(df['Railway'])\n",
    "df['f_Roundabout'] , _ = pd.factorize(df['Roundabout'])\n",
    "df['f_Stop'] , _       = pd.factorize(df['Stop'])\n",
    "df['f_Amenity'] , _    = pd.factorize(df['Amenity'])\n",
    "df['f_Side'] , _       = pd.factorize(df['Side'])\n",
    "\n",
    "\n",
    "\n"
   ]
  },
  {
   "cell_type": "code",
   "execution_count": 5,
   "id": "5d8bd107",
   "metadata": {
    "execution": {
     "iopub.execute_input": "2021-07-27T12:18:32.767207Z",
     "iopub.status.busy": "2021-07-27T12:18:32.766567Z",
     "iopub.status.idle": "2021-07-27T12:18:32.823543Z",
     "shell.execute_reply": "2021-07-27T12:18:32.824081Z",
     "shell.execute_reply.started": "2021-07-27T12:17:52.155081Z"
    },
    "papermill": {
     "duration": 0.104288,
     "end_time": "2021-07-27T12:18:32.824254",
     "exception": false,
     "start_time": "2021-07-27T12:18:32.719966",
     "status": "completed"
    },
    "tags": []
   },
   "outputs": [
    {
     "data": {
      "text/html": [
       "<div>\n",
       "<style scoped>\n",
       "    .dataframe tbody tr th:only-of-type {\n",
       "        vertical-align: middle;\n",
       "    }\n",
       "\n",
       "    .dataframe tbody tr th {\n",
       "        vertical-align: top;\n",
       "    }\n",
       "\n",
       "    .dataframe thead th {\n",
       "        text-align: right;\n",
       "    }\n",
       "</style>\n",
       "<table border=\"1\" class=\"dataframe\">\n",
       "  <thead>\n",
       "    <tr style=\"text-align: right;\">\n",
       "      <th></th>\n",
       "      <th>ID</th>\n",
       "      <th>Lat</th>\n",
       "      <th>Lng</th>\n",
       "      <th>Distance(mi)</th>\n",
       "      <th>Severity</th>\n",
       "      <th>f_Crossing</th>\n",
       "      <th>f_Bump</th>\n",
       "      <th>f_Give_Way</th>\n",
       "      <th>f_Junction</th>\n",
       "      <th>f_No_Exit</th>\n",
       "      <th>f_Railway</th>\n",
       "      <th>f_Roundabout</th>\n",
       "      <th>f_Stop</th>\n",
       "      <th>f_Amenity</th>\n",
       "      <th>f_Side</th>\n",
       "    </tr>\n",
       "  </thead>\n",
       "  <tbody>\n",
       "    <tr>\n",
       "      <th>count</th>\n",
       "      <td>6407.000000</td>\n",
       "      <td>6407.000000</td>\n",
       "      <td>6407.000000</td>\n",
       "      <td>6407.000000</td>\n",
       "      <td>6407.000000</td>\n",
       "      <td>6407.00000</td>\n",
       "      <td>6407.0</td>\n",
       "      <td>6407.000000</td>\n",
       "      <td>6407.000000</td>\n",
       "      <td>6407.000000</td>\n",
       "      <td>6407.000000</td>\n",
       "      <td>6407.0</td>\n",
       "      <td>6407.000000</td>\n",
       "      <td>6407.000000</td>\n",
       "      <td>6407.000000</td>\n",
       "    </tr>\n",
       "    <tr>\n",
       "      <th>mean</th>\n",
       "      <td>3203.000000</td>\n",
       "      <td>37.765653</td>\n",
       "      <td>-122.405990</td>\n",
       "      <td>0.135189</td>\n",
       "      <td>2.293429</td>\n",
       "      <td>0.08241</td>\n",
       "      <td>0.0</td>\n",
       "      <td>0.000468</td>\n",
       "      <td>0.246449</td>\n",
       "      <td>0.000156</td>\n",
       "      <td>0.026533</td>\n",
       "      <td>0.0</td>\n",
       "      <td>0.097706</td>\n",
       "      <td>0.962853</td>\n",
       "      <td>0.050726</td>\n",
       "    </tr>\n",
       "    <tr>\n",
       "      <th>std</th>\n",
       "      <td>1849.685919</td>\n",
       "      <td>0.032555</td>\n",
       "      <td>0.028275</td>\n",
       "      <td>0.396360</td>\n",
       "      <td>0.521225</td>\n",
       "      <td>0.27501</td>\n",
       "      <td>0.0</td>\n",
       "      <td>0.021635</td>\n",
       "      <td>0.430977</td>\n",
       "      <td>0.012493</td>\n",
       "      <td>0.160728</td>\n",
       "      <td>0.0</td>\n",
       "      <td>0.296939</td>\n",
       "      <td>0.189136</td>\n",
       "      <td>0.219454</td>\n",
       "    </tr>\n",
       "    <tr>\n",
       "      <th>min</th>\n",
       "      <td>0.000000</td>\n",
       "      <td>37.609619</td>\n",
       "      <td>-122.510440</td>\n",
       "      <td>0.000000</td>\n",
       "      <td>1.000000</td>\n",
       "      <td>0.00000</td>\n",
       "      <td>0.0</td>\n",
       "      <td>0.000000</td>\n",
       "      <td>0.000000</td>\n",
       "      <td>0.000000</td>\n",
       "      <td>0.000000</td>\n",
       "      <td>0.0</td>\n",
       "      <td>0.000000</td>\n",
       "      <td>0.000000</td>\n",
       "      <td>0.000000</td>\n",
       "    </tr>\n",
       "    <tr>\n",
       "      <th>25%</th>\n",
       "      <td>1601.500000</td>\n",
       "      <td>37.737096</td>\n",
       "      <td>-122.412210</td>\n",
       "      <td>0.000000</td>\n",
       "      <td>2.000000</td>\n",
       "      <td>0.00000</td>\n",
       "      <td>0.0</td>\n",
       "      <td>0.000000</td>\n",
       "      <td>0.000000</td>\n",
       "      <td>0.000000</td>\n",
       "      <td>0.000000</td>\n",
       "      <td>0.0</td>\n",
       "      <td>0.000000</td>\n",
       "      <td>1.000000</td>\n",
       "      <td>0.000000</td>\n",
       "    </tr>\n",
       "    <tr>\n",
       "      <th>50%</th>\n",
       "      <td>3203.000000</td>\n",
       "      <td>37.768238</td>\n",
       "      <td>-122.404835</td>\n",
       "      <td>0.000000</td>\n",
       "      <td>2.000000</td>\n",
       "      <td>0.00000</td>\n",
       "      <td>0.0</td>\n",
       "      <td>0.000000</td>\n",
       "      <td>0.000000</td>\n",
       "      <td>0.000000</td>\n",
       "      <td>0.000000</td>\n",
       "      <td>0.0</td>\n",
       "      <td>0.000000</td>\n",
       "      <td>1.000000</td>\n",
       "      <td>0.000000</td>\n",
       "    </tr>\n",
       "    <tr>\n",
       "      <th>75%</th>\n",
       "      <td>4804.500000</td>\n",
       "      <td>37.787813</td>\n",
       "      <td>-122.392477</td>\n",
       "      <td>0.041000</td>\n",
       "      <td>3.000000</td>\n",
       "      <td>0.00000</td>\n",
       "      <td>0.0</td>\n",
       "      <td>0.000000</td>\n",
       "      <td>0.000000</td>\n",
       "      <td>0.000000</td>\n",
       "      <td>0.000000</td>\n",
       "      <td>0.0</td>\n",
       "      <td>0.000000</td>\n",
       "      <td>1.000000</td>\n",
       "      <td>0.000000</td>\n",
       "    </tr>\n",
       "    <tr>\n",
       "      <th>max</th>\n",
       "      <td>6406.000000</td>\n",
       "      <td>37.825626</td>\n",
       "      <td>-122.349734</td>\n",
       "      <td>6.820000</td>\n",
       "      <td>4.000000</td>\n",
       "      <td>1.00000</td>\n",
       "      <td>0.0</td>\n",
       "      <td>1.000000</td>\n",
       "      <td>1.000000</td>\n",
       "      <td>1.000000</td>\n",
       "      <td>1.000000</td>\n",
       "      <td>0.0</td>\n",
       "      <td>1.000000</td>\n",
       "      <td>1.000000</td>\n",
       "      <td>1.000000</td>\n",
       "    </tr>\n",
       "  </tbody>\n",
       "</table>\n",
       "</div>"
      ],
      "text/plain": [
       "                ID          Lat          Lng  Distance(mi)     Severity  \\\n",
       "count  6407.000000  6407.000000  6407.000000   6407.000000  6407.000000   \n",
       "mean   3203.000000    37.765653  -122.405990      0.135189     2.293429   \n",
       "std    1849.685919     0.032555     0.028275      0.396360     0.521225   \n",
       "min       0.000000    37.609619  -122.510440      0.000000     1.000000   \n",
       "25%    1601.500000    37.737096  -122.412210      0.000000     2.000000   \n",
       "50%    3203.000000    37.768238  -122.404835      0.000000     2.000000   \n",
       "75%    4804.500000    37.787813  -122.392477      0.041000     3.000000   \n",
       "max    6406.000000    37.825626  -122.349734      6.820000     4.000000   \n",
       "\n",
       "       f_Crossing  f_Bump   f_Give_Way   f_Junction    f_No_Exit    f_Railway  \\\n",
       "count  6407.00000  6407.0  6407.000000  6407.000000  6407.000000  6407.000000   \n",
       "mean      0.08241     0.0     0.000468     0.246449     0.000156     0.026533   \n",
       "std       0.27501     0.0     0.021635     0.430977     0.012493     0.160728   \n",
       "min       0.00000     0.0     0.000000     0.000000     0.000000     0.000000   \n",
       "25%       0.00000     0.0     0.000000     0.000000     0.000000     0.000000   \n",
       "50%       0.00000     0.0     0.000000     0.000000     0.000000     0.000000   \n",
       "75%       0.00000     0.0     0.000000     0.000000     0.000000     0.000000   \n",
       "max       1.00000     0.0     1.000000     1.000000     1.000000     1.000000   \n",
       "\n",
       "       f_Roundabout       f_Stop    f_Amenity       f_Side  \n",
       "count        6407.0  6407.000000  6407.000000  6407.000000  \n",
       "mean            0.0     0.097706     0.962853     0.050726  \n",
       "std             0.0     0.296939     0.189136     0.219454  \n",
       "min             0.0     0.000000     0.000000     0.000000  \n",
       "25%             0.0     0.000000     1.000000     0.000000  \n",
       "50%             0.0     0.000000     1.000000     0.000000  \n",
       "75%             0.0     0.000000     1.000000     0.000000  \n",
       "max             0.0     1.000000     1.000000     1.000000  "
      ]
     },
     "execution_count": 5,
     "metadata": {},
     "output_type": "execute_result"
    }
   ],
   "source": [
    "df.describe()"
   ]
  },
  {
   "cell_type": "code",
   "execution_count": 6,
   "id": "ad52801e",
   "metadata": {
    "execution": {
     "iopub.execute_input": "2021-07-27T12:18:32.912987Z",
     "iopub.status.busy": "2021-07-27T12:18:32.911962Z",
     "iopub.status.idle": "2021-07-27T12:18:32.917656Z",
     "shell.execute_reply": "2021-07-27T12:18:32.918126Z",
     "shell.execute_reply.started": "2021-07-27T12:17:52.226550Z"
    },
    "papermill": {
     "duration": 0.051601,
     "end_time": "2021-07-27T12:18:32.918307",
     "exception": false,
     "start_time": "2021-07-27T12:18:32.866706",
     "status": "completed"
    },
    "tags": []
   },
   "outputs": [],
   "source": [
    "df=df.drop(columns = ['Crossing','Bump','Give_Way','Junction','No_Exit','Railway','Roundabout','Stop','Amenity','Side'])\n"
   ]
  },
  {
   "cell_type": "code",
   "execution_count": 7,
   "id": "1ae3dcbc",
   "metadata": {
    "execution": {
     "iopub.execute_input": "2021-07-27T12:18:33.007291Z",
     "iopub.status.busy": "2021-07-27T12:18:33.006230Z",
     "iopub.status.idle": "2021-07-27T12:18:33.023463Z",
     "shell.execute_reply": "2021-07-27T12:18:33.023938Z",
     "shell.execute_reply.started": "2021-07-27T12:17:52.239767Z"
    },
    "papermill": {
     "duration": 0.063953,
     "end_time": "2021-07-27T12:18:33.024113",
     "exception": false,
     "start_time": "2021-07-27T12:18:32.960160",
     "status": "completed"
    },
    "tags": []
   },
   "outputs": [
    {
     "data": {
      "text/html": [
       "<div>\n",
       "<style scoped>\n",
       "    .dataframe tbody tr th:only-of-type {\n",
       "        vertical-align: middle;\n",
       "    }\n",
       "\n",
       "    .dataframe tbody tr th {\n",
       "        vertical-align: top;\n",
       "    }\n",
       "\n",
       "    .dataframe thead th {\n",
       "        text-align: right;\n",
       "    }\n",
       "</style>\n",
       "<table border=\"1\" class=\"dataframe\">\n",
       "  <thead>\n",
       "    <tr style=\"text-align: right;\">\n",
       "      <th></th>\n",
       "      <th>ID</th>\n",
       "      <th>Lat</th>\n",
       "      <th>Lng</th>\n",
       "      <th>Distance(mi)</th>\n",
       "      <th>Severity</th>\n",
       "      <th>timestamp</th>\n",
       "      <th>f_Crossing</th>\n",
       "      <th>f_Bump</th>\n",
       "      <th>f_Give_Way</th>\n",
       "      <th>f_Junction</th>\n",
       "      <th>f_No_Exit</th>\n",
       "      <th>f_Railway</th>\n",
       "      <th>f_Roundabout</th>\n",
       "      <th>f_Stop</th>\n",
       "      <th>f_Amenity</th>\n",
       "      <th>f_Side</th>\n",
       "    </tr>\n",
       "  </thead>\n",
       "  <tbody>\n",
       "    <tr>\n",
       "      <th>0</th>\n",
       "      <td>0</td>\n",
       "      <td>37.762150</td>\n",
       "      <td>-122.405660</td>\n",
       "      <td>0.044</td>\n",
       "      <td>2</td>\n",
       "      <td>2016-03-25 15:13:02</td>\n",
       "      <td>0</td>\n",
       "      <td>0</td>\n",
       "      <td>0</td>\n",
       "      <td>0</td>\n",
       "      <td>0</td>\n",
       "      <td>0</td>\n",
       "      <td>0</td>\n",
       "      <td>0</td>\n",
       "      <td>0</td>\n",
       "      <td>0</td>\n",
       "    </tr>\n",
       "    <tr>\n",
       "      <th>1</th>\n",
       "      <td>1</td>\n",
       "      <td>37.719157</td>\n",
       "      <td>-122.448254</td>\n",
       "      <td>0.000</td>\n",
       "      <td>2</td>\n",
       "      <td>2020-05-05 19:23:00</td>\n",
       "      <td>0</td>\n",
       "      <td>0</td>\n",
       "      <td>0</td>\n",
       "      <td>0</td>\n",
       "      <td>0</td>\n",
       "      <td>0</td>\n",
       "      <td>0</td>\n",
       "      <td>0</td>\n",
       "      <td>1</td>\n",
       "      <td>0</td>\n",
       "    </tr>\n",
       "    <tr>\n",
       "      <th>2</th>\n",
       "      <td>2</td>\n",
       "      <td>37.808498</td>\n",
       "      <td>-122.366852</td>\n",
       "      <td>0.000</td>\n",
       "      <td>3</td>\n",
       "      <td>2016-09-16 19:57:16</td>\n",
       "      <td>0</td>\n",
       "      <td>0</td>\n",
       "      <td>0</td>\n",
       "      <td>0</td>\n",
       "      <td>0</td>\n",
       "      <td>0</td>\n",
       "      <td>0</td>\n",
       "      <td>1</td>\n",
       "      <td>1</td>\n",
       "      <td>0</td>\n",
       "    </tr>\n",
       "    <tr>\n",
       "      <th>3</th>\n",
       "      <td>3</td>\n",
       "      <td>37.785930</td>\n",
       "      <td>-122.391080</td>\n",
       "      <td>0.009</td>\n",
       "      <td>1</td>\n",
       "      <td>2020-03-29 19:48:43</td>\n",
       "      <td>0</td>\n",
       "      <td>0</td>\n",
       "      <td>0</td>\n",
       "      <td>1</td>\n",
       "      <td>0</td>\n",
       "      <td>0</td>\n",
       "      <td>0</td>\n",
       "      <td>0</td>\n",
       "      <td>1</td>\n",
       "      <td>0</td>\n",
       "    </tr>\n",
       "    <tr>\n",
       "      <th>4</th>\n",
       "      <td>4</td>\n",
       "      <td>37.719141</td>\n",
       "      <td>-122.448457</td>\n",
       "      <td>0.000</td>\n",
       "      <td>2</td>\n",
       "      <td>2019-10-09 08:47:00</td>\n",
       "      <td>0</td>\n",
       "      <td>0</td>\n",
       "      <td>0</td>\n",
       "      <td>0</td>\n",
       "      <td>0</td>\n",
       "      <td>0</td>\n",
       "      <td>0</td>\n",
       "      <td>0</td>\n",
       "      <td>1</td>\n",
       "      <td>0</td>\n",
       "    </tr>\n",
       "  </tbody>\n",
       "</table>\n",
       "</div>"
      ],
      "text/plain": [
       "   ID        Lat         Lng  Distance(mi)  Severity            timestamp  \\\n",
       "0   0  37.762150 -122.405660         0.044         2  2016-03-25 15:13:02   \n",
       "1   1  37.719157 -122.448254         0.000         2  2020-05-05 19:23:00   \n",
       "2   2  37.808498 -122.366852         0.000         3  2016-09-16 19:57:16   \n",
       "3   3  37.785930 -122.391080         0.009         1  2020-03-29 19:48:43   \n",
       "4   4  37.719141 -122.448457         0.000         2  2019-10-09 08:47:00   \n",
       "\n",
       "   f_Crossing  f_Bump  f_Give_Way  f_Junction  f_No_Exit  f_Railway  \\\n",
       "0           0       0           0           0          0          0   \n",
       "1           0       0           0           0          0          0   \n",
       "2           0       0           0           0          0          0   \n",
       "3           0       0           0           1          0          0   \n",
       "4           0       0           0           0          0          0   \n",
       "\n",
       "   f_Roundabout  f_Stop  f_Amenity  f_Side  \n",
       "0             0       0          0       0  \n",
       "1             0       0          1       0  \n",
       "2             0       1          1       0  \n",
       "3             0       0          1       0  \n",
       "4             0       0          1       0  "
      ]
     },
     "execution_count": 7,
     "metadata": {},
     "output_type": "execute_result"
    }
   ],
   "source": [
    "df.head()"
   ]
  },
  {
   "cell_type": "code",
   "execution_count": 8,
   "id": "d0dd812a",
   "metadata": {
    "execution": {
     "iopub.execute_input": "2021-07-27T12:18:33.127935Z",
     "iopub.status.busy": "2021-07-27T12:18:33.127247Z",
     "iopub.status.idle": "2021-07-27T12:18:33.132013Z",
     "shell.execute_reply": "2021-07-27T12:18:33.131493Z",
     "shell.execute_reply.started": "2021-07-27T12:17:52.270305Z"
    },
    "papermill": {
     "duration": 0.065352,
     "end_time": "2021-07-27T12:18:33.132155",
     "exception": false,
     "start_time": "2021-07-27T12:18:33.066803",
     "status": "completed"
    },
    "tags": []
   },
   "outputs": [],
   "source": [
    "df['time']=pd.to_datetime(df['timestamp'])\n",
    "\n",
    "df['time_date'] = [d[0:10] for d in df['timestamp']]\n",
    "\n",
    "\n",
    "df['date']=pd.to_datetime(df['time_date'])\n",
    "\n",
    "df['hour']=df['time'].dt.hour\n"
   ]
  },
  {
   "cell_type": "code",
   "execution_count": 9,
   "id": "d509f61a",
   "metadata": {
    "execution": {
     "iopub.execute_input": "2021-07-27T12:18:33.222433Z",
     "iopub.status.busy": "2021-07-27T12:18:33.221732Z",
     "iopub.status.idle": "2021-07-27T12:18:33.228313Z",
     "shell.execute_reply": "2021-07-27T12:18:33.227730Z",
     "shell.execute_reply.started": "2021-07-27T12:17:52.294613Z"
    },
    "papermill": {
     "duration": 0.053753,
     "end_time": "2021-07-27T12:18:33.228451",
     "exception": false,
     "start_time": "2021-07-27T12:18:33.174698",
     "status": "completed"
    },
    "tags": []
   },
   "outputs": [],
   "source": [
    "df=df.drop(columns = ['timestamp','time','time_date'])\n"
   ]
  },
  {
   "cell_type": "code",
   "execution_count": 10,
   "id": "a4c8a949",
   "metadata": {
    "execution": {
     "iopub.execute_input": "2021-07-27T12:18:33.324331Z",
     "iopub.status.busy": "2021-07-27T12:18:33.323223Z",
     "iopub.status.idle": "2021-07-27T12:18:33.327864Z",
     "shell.execute_reply": "2021-07-27T12:18:33.327314Z",
     "shell.execute_reply.started": "2021-07-27T12:17:52.308381Z"
    },
    "papermill": {
     "duration": 0.057329,
     "end_time": "2021-07-27T12:18:33.328089",
     "exception": false,
     "start_time": "2021-07-27T12:18:33.270760",
     "status": "completed"
    },
    "tags": []
   },
   "outputs": [
    {
     "data": {
      "text/plain": [
       "ID                       int64\n",
       "Lat                    float64\n",
       "Lng                    float64\n",
       "Distance(mi)           float64\n",
       "Severity                 int64\n",
       "f_Crossing               int64\n",
       "f_Bump                   int64\n",
       "f_Give_Way               int64\n",
       "f_Junction               int64\n",
       "f_No_Exit                int64\n",
       "f_Railway                int64\n",
       "f_Roundabout             int64\n",
       "f_Stop                   int64\n",
       "f_Amenity                int64\n",
       "f_Side                   int64\n",
       "date            datetime64[ns]\n",
       "hour                     int64\n",
       "dtype: object"
      ]
     },
     "execution_count": 10,
     "metadata": {},
     "output_type": "execute_result"
    }
   ],
   "source": [
    "df.head()\n",
    "df.dtypes"
   ]
  },
  {
   "cell_type": "code",
   "execution_count": 11,
   "id": "0947fe36",
   "metadata": {
    "execution": {
     "iopub.execute_input": "2021-07-27T12:18:33.426820Z",
     "iopub.status.busy": "2021-07-27T12:18:33.425911Z",
     "iopub.status.idle": "2021-07-27T12:18:33.430230Z",
     "shell.execute_reply": "2021-07-27T12:18:33.429520Z",
     "shell.execute_reply.started": "2021-07-27T12:17:52.323602Z"
    },
    "papermill": {
     "duration": 0.055813,
     "end_time": "2021-07-27T12:18:33.430370",
     "exception": false,
     "start_time": "2021-07-27T12:18:33.374557",
     "status": "completed"
    },
    "tags": []
   },
   "outputs": [
    {
     "data": {
      "text/plain": [
       "(6407, 17)"
      ]
     },
     "execution_count": 11,
     "metadata": {},
     "output_type": "execute_result"
    }
   ],
   "source": [
    "df.shape\n"
   ]
  },
  {
   "cell_type": "code",
   "execution_count": 12,
   "id": "100370e3",
   "metadata": {
    "execution": {
     "iopub.execute_input": "2021-07-27T12:18:33.525537Z",
     "iopub.status.busy": "2021-07-27T12:18:33.524894Z",
     "iopub.status.idle": "2021-07-27T12:18:33.684693Z",
     "shell.execute_reply": "2021-07-27T12:18:33.684144Z",
     "shell.execute_reply.started": "2021-07-27T12:17:52.338975Z"
    },
    "papermill": {
     "duration": 0.21011,
     "end_time": "2021-07-27T12:18:33.684856",
     "exception": false,
     "start_time": "2021-07-27T12:18:33.474746",
     "status": "completed"
    },
    "tags": []
   },
   "outputs": [],
   "source": [
    "df_weather = pd.read_csv( os.path.join(dataset_path, 'weather-sfcsv.csv'))\n",
    "\n",
    "df_weather[\"time\"]=df_weather[['Year','Month','Day']].apply(lambda row: '-'.join(row.values.astype(str)), axis=1)\n",
    "\n",
    "df_weather['date']=pd.to_datetime(df_weather['time'])\n",
    "df_weather['hour']=df_weather['Hour']\n",
    "\n",
    "df_weather=df_weather.drop(columns = ['Year','Day','Month',\"time\",'Hour'])\n",
    "\n"
   ]
  },
  {
   "cell_type": "code",
   "execution_count": 13,
   "id": "60f83a85",
   "metadata": {
    "execution": {
     "iopub.execute_input": "2021-07-27T12:18:33.790732Z",
     "iopub.status.busy": "2021-07-27T12:18:33.789806Z",
     "iopub.status.idle": "2021-07-27T12:18:33.794099Z",
     "shell.execute_reply": "2021-07-27T12:18:33.793605Z",
     "shell.execute_reply.started": "2021-07-27T12:17:52.501564Z"
    },
    "papermill": {
     "duration": 0.064918,
     "end_time": "2021-07-27T12:18:33.794236",
     "exception": false,
     "start_time": "2021-07-27T12:18:33.729318",
     "status": "completed"
    },
    "tags": []
   },
   "outputs": [
    {
     "data": {
      "text/html": [
       "<div>\n",
       "<style scoped>\n",
       "    .dataframe tbody tr th:only-of-type {\n",
       "        vertical-align: middle;\n",
       "    }\n",
       "\n",
       "    .dataframe tbody tr th {\n",
       "        vertical-align: top;\n",
       "    }\n",
       "\n",
       "    .dataframe thead th {\n",
       "        text-align: right;\n",
       "    }\n",
       "</style>\n",
       "<table border=\"1\" class=\"dataframe\">\n",
       "  <thead>\n",
       "    <tr style=\"text-align: right;\">\n",
       "      <th></th>\n",
       "      <th>Weather_Condition</th>\n",
       "      <th>Wind_Chill(F)</th>\n",
       "      <th>Precipitation(in)</th>\n",
       "      <th>Temperature(F)</th>\n",
       "      <th>Humidity(%)</th>\n",
       "      <th>Wind_Speed(mph)</th>\n",
       "      <th>Visibility(mi)</th>\n",
       "      <th>Selected</th>\n",
       "      <th>date</th>\n",
       "      <th>hour</th>\n",
       "    </tr>\n",
       "  </thead>\n",
       "  <tbody>\n",
       "    <tr>\n",
       "      <th>0</th>\n",
       "      <td>Fair</td>\n",
       "      <td>64.0</td>\n",
       "      <td>0.0</td>\n",
       "      <td>64.0</td>\n",
       "      <td>70.0</td>\n",
       "      <td>20.0</td>\n",
       "      <td>10.0</td>\n",
       "      <td>No</td>\n",
       "      <td>2020-07-27</td>\n",
       "      <td>18</td>\n",
       "    </tr>\n",
       "    <tr>\n",
       "      <th>1</th>\n",
       "      <td>Partly Cloudy</td>\n",
       "      <td>NaN</td>\n",
       "      <td>NaN</td>\n",
       "      <td>71.1</td>\n",
       "      <td>57.0</td>\n",
       "      <td>9.2</td>\n",
       "      <td>10.0</td>\n",
       "      <td>No</td>\n",
       "      <td>2017-09-30</td>\n",
       "      <td>17</td>\n",
       "    </tr>\n",
       "    <tr>\n",
       "      <th>2</th>\n",
       "      <td>Overcast</td>\n",
       "      <td>NaN</td>\n",
       "      <td>NaN</td>\n",
       "      <td>57.9</td>\n",
       "      <td>87.0</td>\n",
       "      <td>15.0</td>\n",
       "      <td>9.0</td>\n",
       "      <td>No</td>\n",
       "      <td>2017-06-27</td>\n",
       "      <td>5</td>\n",
       "    </tr>\n",
       "    <tr>\n",
       "      <th>3</th>\n",
       "      <td>Clear</td>\n",
       "      <td>NaN</td>\n",
       "      <td>NaN</td>\n",
       "      <td>66.9</td>\n",
       "      <td>73.0</td>\n",
       "      <td>4.6</td>\n",
       "      <td>10.0</td>\n",
       "      <td>No</td>\n",
       "      <td>2016-09-07</td>\n",
       "      <td>9</td>\n",
       "    </tr>\n",
       "    <tr>\n",
       "      <th>4</th>\n",
       "      <td>Fair</td>\n",
       "      <td>52.0</td>\n",
       "      <td>0.0</td>\n",
       "      <td>52.0</td>\n",
       "      <td>89.0</td>\n",
       "      <td>0.0</td>\n",
       "      <td>9.0</td>\n",
       "      <td>No</td>\n",
       "      <td>2019-10-19</td>\n",
       "      <td>2</td>\n",
       "    </tr>\n",
       "  </tbody>\n",
       "</table>\n",
       "</div>"
      ],
      "text/plain": [
       "  Weather_Condition  Wind_Chill(F)  Precipitation(in)  Temperature(F)  \\\n",
       "0              Fair           64.0                0.0            64.0   \n",
       "1     Partly Cloudy            NaN                NaN            71.1   \n",
       "2          Overcast            NaN                NaN            57.9   \n",
       "3             Clear            NaN                NaN            66.9   \n",
       "4              Fair           52.0                0.0            52.0   \n",
       "\n",
       "   Humidity(%)  Wind_Speed(mph)  Visibility(mi) Selected       date  hour  \n",
       "0         70.0             20.0            10.0       No 2020-07-27    18  \n",
       "1         57.0              9.2            10.0       No 2017-09-30    17  \n",
       "2         87.0             15.0             9.0       No 2017-06-27     5  \n",
       "3         73.0              4.6            10.0       No 2016-09-07     9  \n",
       "4         89.0              0.0             9.0       No 2019-10-19     2  "
      ]
     },
     "execution_count": 13,
     "metadata": {},
     "output_type": "execute_result"
    }
   ],
   "source": [
    "df_weather.head()"
   ]
  },
  {
   "cell_type": "code",
   "execution_count": 14,
   "id": "c03d0218",
   "metadata": {
    "execution": {
     "iopub.execute_input": "2021-07-27T12:18:33.889746Z",
     "iopub.status.busy": "2021-07-27T12:18:33.888822Z",
     "iopub.status.idle": "2021-07-27T12:18:33.894607Z",
     "shell.execute_reply": "2021-07-27T12:18:33.894127Z",
     "shell.execute_reply.started": "2021-07-27T12:17:52.522914Z"
    },
    "papermill": {
     "duration": 0.056317,
     "end_time": "2021-07-27T12:18:33.894744",
     "exception": false,
     "start_time": "2021-07-27T12:18:33.838427",
     "status": "completed"
    },
    "tags": []
   },
   "outputs": [],
   "source": [
    "df_weather['Selected'] , _       = pd.factorize(df_weather['Selected'])\n",
    "df_weather['Weather_Condition'] , _       = pd.factorize(df_weather['Weather_Condition'])"
   ]
  },
  {
   "cell_type": "code",
   "execution_count": 15,
   "id": "a8371fbb",
   "metadata": {
    "execution": {
     "iopub.execute_input": "2021-07-27T12:18:33.990639Z",
     "iopub.status.busy": "2021-07-27T12:18:33.989802Z",
     "iopub.status.idle": "2021-07-27T12:18:33.993186Z",
     "shell.execute_reply": "2021-07-27T12:18:33.993736Z",
     "shell.execute_reply.started": "2021-07-27T12:17:52.533392Z"
    },
    "papermill": {
     "duration": 0.055431,
     "end_time": "2021-07-27T12:18:33.993925",
     "exception": false,
     "start_time": "2021-07-27T12:18:33.938494",
     "status": "completed"
    },
    "tags": []
   },
   "outputs": [
    {
     "data": {
      "text/plain": [
       "Weather_Condition             int64\n",
       "Wind_Chill(F)               float64\n",
       "Precipitation(in)           float64\n",
       "Temperature(F)              float64\n",
       "Humidity(%)                 float64\n",
       "Wind_Speed(mph)             float64\n",
       "Visibility(mi)              float64\n",
       "Selected                      int64\n",
       "date                 datetime64[ns]\n",
       "hour                          int64\n",
       "dtype: object"
      ]
     },
     "execution_count": 15,
     "metadata": {},
     "output_type": "execute_result"
    }
   ],
   "source": [
    "df_weather.head()\n",
    "df_weather.dtypes"
   ]
  },
  {
   "cell_type": "code",
   "execution_count": 16,
   "id": "23fd400e",
   "metadata": {
    "execution": {
     "iopub.execute_input": "2021-07-27T12:18:34.086452Z",
     "iopub.status.busy": "2021-07-27T12:18:34.085525Z",
     "iopub.status.idle": "2021-07-27T12:18:34.098593Z",
     "shell.execute_reply": "2021-07-27T12:18:34.098001Z",
     "shell.execute_reply.started": "2021-07-27T12:17:52.546835Z"
    },
    "papermill": {
     "duration": 0.060116,
     "end_time": "2021-07-27T12:18:34.098723",
     "exception": false,
     "start_time": "2021-07-27T12:18:34.038607",
     "status": "completed"
    },
    "tags": []
   },
   "outputs": [
    {
     "data": {
      "text/plain": [
       "(6901, 10)"
      ]
     },
     "execution_count": 16,
     "metadata": {},
     "output_type": "execute_result"
    }
   ],
   "source": [
    "df_weather1=df_weather.drop_duplicates()\n",
    "\n",
    "df_weather1.shape\n"
   ]
  },
  {
   "cell_type": "code",
   "execution_count": 17,
   "id": "fa7c332c",
   "metadata": {
    "execution": {
     "iopub.execute_input": "2021-07-27T12:18:34.192920Z",
     "iopub.status.busy": "2021-07-27T12:18:34.192243Z",
     "iopub.status.idle": "2021-07-27T12:18:34.195209Z",
     "shell.execute_reply": "2021-07-27T12:18:34.194662Z",
     "shell.execute_reply.started": "2021-07-27T12:17:52.566301Z"
    },
    "papermill": {
     "duration": 0.051697,
     "end_time": "2021-07-27T12:18:34.195350",
     "exception": false,
     "start_time": "2021-07-27T12:18:34.143653",
     "status": "completed"
    },
    "scrolled": true,
    "tags": []
   },
   "outputs": [],
   "source": [
    "# df_holiday = pd.read_xml( os.path.join(dataset_path,'holidays.xml'))\n",
    "\n",
    "# df_holiday['date']=pd.to_datetime(df_holiday['date'])\n",
    "\n",
    "# df_holiday[\"holiday\"]=1\n",
    "\n",
    "# print(\"The shape of the dataset is {}.\\n\\n\".format(df_holiday.shape))                      \n",
    "# df_holiday.head()"
   ]
  },
  {
   "cell_type": "code",
   "execution_count": 18,
   "id": "8b44b7f7",
   "metadata": {
    "execution": {
     "iopub.execute_input": "2021-07-27T12:18:34.288238Z",
     "iopub.status.busy": "2021-07-27T12:18:34.287323Z",
     "iopub.status.idle": "2021-07-27T12:18:34.290569Z",
     "shell.execute_reply": "2021-07-27T12:18:34.291014Z",
     "shell.execute_reply.started": "2021-07-27T12:17:52.574422Z"
    },
    "papermill": {
     "duration": 0.051498,
     "end_time": "2021-07-27T12:18:34.291169",
     "exception": false,
     "start_time": "2021-07-27T12:18:34.239671",
     "status": "completed"
    },
    "tags": []
   },
   "outputs": [],
   "source": [
    "# df_holiday.dtypes"
   ]
  },
  {
   "cell_type": "code",
   "execution_count": 19,
   "id": "8a7f32f8",
   "metadata": {
    "execution": {
     "iopub.execute_input": "2021-07-27T12:18:34.383215Z",
     "iopub.status.busy": "2021-07-27T12:18:34.382206Z",
     "iopub.status.idle": "2021-07-27T12:18:34.405081Z",
     "shell.execute_reply": "2021-07-27T12:18:34.404519Z",
     "shell.execute_reply.started": "2021-07-27T12:17:52.587129Z"
    },
    "papermill": {
     "duration": 0.069879,
     "end_time": "2021-07-27T12:18:34.405216",
     "exception": false,
     "start_time": "2021-07-27T12:18:34.335337",
     "status": "completed"
    },
    "tags": []
   },
   "outputs": [],
   "source": [
    "df =pd.merge(df,df_weather1,on=['date','hour'],how='left').drop_duplicates(\"ID\")\n",
    "# df =pd.merge(df,df_holiday,on='date',how='left')\n"
   ]
  },
  {
   "cell_type": "code",
   "execution_count": 20,
   "id": "0873d723",
   "metadata": {
    "execution": {
     "iopub.execute_input": "2021-07-27T12:18:34.496780Z",
     "iopub.status.busy": "2021-07-27T12:18:34.495879Z",
     "iopub.status.idle": "2021-07-27T12:18:34.582690Z",
     "shell.execute_reply": "2021-07-27T12:18:34.583187Z",
     "shell.execute_reply.started": "2021-07-27T12:17:52.614534Z"
    },
    "papermill": {
     "duration": 0.134152,
     "end_time": "2021-07-27T12:18:34.583356",
     "exception": false,
     "start_time": "2021-07-27T12:18:34.449204",
     "status": "completed"
    },
    "tags": []
   },
   "outputs": [
    {
     "name": "stderr",
     "output_type": "stream",
     "text": [
      "/opt/conda/lib/python3.7/site-packages/ipykernel_launcher.py:2: FutureWarning: DataFrame.mean and DataFrame.median with numeric_only=None will include datetime64 and datetime64tz columns in a future version.\n",
      "  \n"
     ]
    },
    {
     "data": {
      "text/html": [
       "<div>\n",
       "<style scoped>\n",
       "    .dataframe tbody tr th:only-of-type {\n",
       "        vertical-align: middle;\n",
       "    }\n",
       "\n",
       "    .dataframe tbody tr th {\n",
       "        vertical-align: top;\n",
       "    }\n",
       "\n",
       "    .dataframe thead th {\n",
       "        text-align: right;\n",
       "    }\n",
       "</style>\n",
       "<table border=\"1\" class=\"dataframe\">\n",
       "  <thead>\n",
       "    <tr style=\"text-align: right;\">\n",
       "      <th></th>\n",
       "      <th>ID</th>\n",
       "      <th>Lat</th>\n",
       "      <th>Lng</th>\n",
       "      <th>Distance(mi)</th>\n",
       "      <th>Severity</th>\n",
       "      <th>f_Crossing</th>\n",
       "      <th>f_Bump</th>\n",
       "      <th>f_Give_Way</th>\n",
       "      <th>f_Junction</th>\n",
       "      <th>f_No_Exit</th>\n",
       "      <th>...</th>\n",
       "      <th>f_Side</th>\n",
       "      <th>hour</th>\n",
       "      <th>Weather_Condition</th>\n",
       "      <th>Wind_Chill(F)</th>\n",
       "      <th>Precipitation(in)</th>\n",
       "      <th>Temperature(F)</th>\n",
       "      <th>Humidity(%)</th>\n",
       "      <th>Wind_Speed(mph)</th>\n",
       "      <th>Visibility(mi)</th>\n",
       "      <th>Selected</th>\n",
       "    </tr>\n",
       "  </thead>\n",
       "  <tbody>\n",
       "    <tr>\n",
       "      <th>count</th>\n",
       "      <td>6407.000000</td>\n",
       "      <td>6407.000000</td>\n",
       "      <td>6407.000000</td>\n",
       "      <td>6407.000000</td>\n",
       "      <td>6407.000000</td>\n",
       "      <td>6407.00000</td>\n",
       "      <td>6407.0</td>\n",
       "      <td>6407.000000</td>\n",
       "      <td>6407.000000</td>\n",
       "      <td>6407.000000</td>\n",
       "      <td>...</td>\n",
       "      <td>6407.000000</td>\n",
       "      <td>6407.000000</td>\n",
       "      <td>6407.000000</td>\n",
       "      <td>6407.000000</td>\n",
       "      <td>6407.000000</td>\n",
       "      <td>6407.000000</td>\n",
       "      <td>6407.000000</td>\n",
       "      <td>6407.000000</td>\n",
       "      <td>6407.000000</td>\n",
       "      <td>6407.000000</td>\n",
       "    </tr>\n",
       "    <tr>\n",
       "      <th>mean</th>\n",
       "      <td>3203.000000</td>\n",
       "      <td>37.765653</td>\n",
       "      <td>-122.405990</td>\n",
       "      <td>0.135189</td>\n",
       "      <td>2.293429</td>\n",
       "      <td>0.08241</td>\n",
       "      <td>0.0</td>\n",
       "      <td>0.000468</td>\n",
       "      <td>0.246449</td>\n",
       "      <td>0.000156</td>\n",
       "      <td>...</td>\n",
       "      <td>0.050726</td>\n",
       "      <td>12.873888</td>\n",
       "      <td>3.417668</td>\n",
       "      <td>59.478726</td>\n",
       "      <td>0.003431</td>\n",
       "      <td>59.938708</td>\n",
       "      <td>68.180115</td>\n",
       "      <td>10.827283</td>\n",
       "      <td>9.440529</td>\n",
       "      <td>0.000312</td>\n",
       "    </tr>\n",
       "    <tr>\n",
       "      <th>std</th>\n",
       "      <td>1849.685919</td>\n",
       "      <td>0.032555</td>\n",
       "      <td>0.028275</td>\n",
       "      <td>0.396360</td>\n",
       "      <td>0.521225</td>\n",
       "      <td>0.27501</td>\n",
       "      <td>0.0</td>\n",
       "      <td>0.021635</td>\n",
       "      <td>0.430977</td>\n",
       "      <td>0.012493</td>\n",
       "      <td>...</td>\n",
       "      <td>0.219454</td>\n",
       "      <td>5.824203</td>\n",
       "      <td>3.624300</td>\n",
       "      <td>6.565851</td>\n",
       "      <td>0.021158</td>\n",
       "      <td>7.945247</td>\n",
       "      <td>16.163445</td>\n",
       "      <td>6.350990</td>\n",
       "      <td>1.647528</td>\n",
       "      <td>0.017667</td>\n",
       "    </tr>\n",
       "    <tr>\n",
       "      <th>min</th>\n",
       "      <td>0.000000</td>\n",
       "      <td>37.609619</td>\n",
       "      <td>-122.510440</td>\n",
       "      <td>0.000000</td>\n",
       "      <td>1.000000</td>\n",
       "      <td>0.00000</td>\n",
       "      <td>0.0</td>\n",
       "      <td>0.000000</td>\n",
       "      <td>0.000000</td>\n",
       "      <td>0.000000</td>\n",
       "      <td>...</td>\n",
       "      <td>0.000000</td>\n",
       "      <td>0.000000</td>\n",
       "      <td>-1.000000</td>\n",
       "      <td>31.100000</td>\n",
       "      <td>0.000000</td>\n",
       "      <td>36.000000</td>\n",
       "      <td>10.000000</td>\n",
       "      <td>0.000000</td>\n",
       "      <td>0.120000</td>\n",
       "      <td>0.000000</td>\n",
       "    </tr>\n",
       "    <tr>\n",
       "      <th>25%</th>\n",
       "      <td>1601.500000</td>\n",
       "      <td>37.737096</td>\n",
       "      <td>-122.412210</td>\n",
       "      <td>0.000000</td>\n",
       "      <td>2.000000</td>\n",
       "      <td>0.00000</td>\n",
       "      <td>0.0</td>\n",
       "      <td>0.000000</td>\n",
       "      <td>0.000000</td>\n",
       "      <td>0.000000</td>\n",
       "      <td>...</td>\n",
       "      <td>0.000000</td>\n",
       "      <td>8.000000</td>\n",
       "      <td>1.000000</td>\n",
       "      <td>59.000000</td>\n",
       "      <td>0.000000</td>\n",
       "      <td>54.000000</td>\n",
       "      <td>59.000000</td>\n",
       "      <td>6.000000</td>\n",
       "      <td>10.000000</td>\n",
       "      <td>0.000000</td>\n",
       "    </tr>\n",
       "    <tr>\n",
       "      <th>50%</th>\n",
       "      <td>3203.000000</td>\n",
       "      <td>37.768238</td>\n",
       "      <td>-122.404835</td>\n",
       "      <td>0.000000</td>\n",
       "      <td>2.000000</td>\n",
       "      <td>0.00000</td>\n",
       "      <td>0.0</td>\n",
       "      <td>0.000000</td>\n",
       "      <td>0.000000</td>\n",
       "      <td>0.000000</td>\n",
       "      <td>...</td>\n",
       "      <td>0.000000</td>\n",
       "      <td>14.000000</td>\n",
       "      <td>3.000000</td>\n",
       "      <td>59.000000</td>\n",
       "      <td>0.000000</td>\n",
       "      <td>59.000000</td>\n",
       "      <td>70.000000</td>\n",
       "      <td>10.000000</td>\n",
       "      <td>10.000000</td>\n",
       "      <td>0.000000</td>\n",
       "    </tr>\n",
       "    <tr>\n",
       "      <th>75%</th>\n",
       "      <td>4804.500000</td>\n",
       "      <td>37.787813</td>\n",
       "      <td>-122.392477</td>\n",
       "      <td>0.041000</td>\n",
       "      <td>3.000000</td>\n",
       "      <td>0.00000</td>\n",
       "      <td>0.0</td>\n",
       "      <td>0.000000</td>\n",
       "      <td>0.000000</td>\n",
       "      <td>0.000000</td>\n",
       "      <td>...</td>\n",
       "      <td>0.000000</td>\n",
       "      <td>17.000000</td>\n",
       "      <td>4.000000</td>\n",
       "      <td>59.000000</td>\n",
       "      <td>0.000000</td>\n",
       "      <td>64.900000</td>\n",
       "      <td>80.000000</td>\n",
       "      <td>15.000000</td>\n",
       "      <td>10.000000</td>\n",
       "      <td>0.000000</td>\n",
       "    </tr>\n",
       "    <tr>\n",
       "      <th>max</th>\n",
       "      <td>6406.000000</td>\n",
       "      <td>37.825626</td>\n",
       "      <td>-122.349734</td>\n",
       "      <td>6.820000</td>\n",
       "      <td>4.000000</td>\n",
       "      <td>1.00000</td>\n",
       "      <td>0.0</td>\n",
       "      <td>1.000000</td>\n",
       "      <td>1.000000</td>\n",
       "      <td>1.000000</td>\n",
       "      <td>...</td>\n",
       "      <td>1.000000</td>\n",
       "      <td>23.000000</td>\n",
       "      <td>25.000000</td>\n",
       "      <td>98.000000</td>\n",
       "      <td>0.490000</td>\n",
       "      <td>98.000000</td>\n",
       "      <td>100.000000</td>\n",
       "      <td>40.300000</td>\n",
       "      <td>10.000000</td>\n",
       "      <td>1.000000</td>\n",
       "    </tr>\n",
       "  </tbody>\n",
       "</table>\n",
       "<p>8 rows × 24 columns</p>\n",
       "</div>"
      ],
      "text/plain": [
       "                ID          Lat          Lng  Distance(mi)     Severity  \\\n",
       "count  6407.000000  6407.000000  6407.000000   6407.000000  6407.000000   \n",
       "mean   3203.000000    37.765653  -122.405990      0.135189     2.293429   \n",
       "std    1849.685919     0.032555     0.028275      0.396360     0.521225   \n",
       "min       0.000000    37.609619  -122.510440      0.000000     1.000000   \n",
       "25%    1601.500000    37.737096  -122.412210      0.000000     2.000000   \n",
       "50%    3203.000000    37.768238  -122.404835      0.000000     2.000000   \n",
       "75%    4804.500000    37.787813  -122.392477      0.041000     3.000000   \n",
       "max    6406.000000    37.825626  -122.349734      6.820000     4.000000   \n",
       "\n",
       "       f_Crossing  f_Bump   f_Give_Way   f_Junction    f_No_Exit  ...  \\\n",
       "count  6407.00000  6407.0  6407.000000  6407.000000  6407.000000  ...   \n",
       "mean      0.08241     0.0     0.000468     0.246449     0.000156  ...   \n",
       "std       0.27501     0.0     0.021635     0.430977     0.012493  ...   \n",
       "min       0.00000     0.0     0.000000     0.000000     0.000000  ...   \n",
       "25%       0.00000     0.0     0.000000     0.000000     0.000000  ...   \n",
       "50%       0.00000     0.0     0.000000     0.000000     0.000000  ...   \n",
       "75%       0.00000     0.0     0.000000     0.000000     0.000000  ...   \n",
       "max       1.00000     0.0     1.000000     1.000000     1.000000  ...   \n",
       "\n",
       "            f_Side         hour  Weather_Condition  Wind_Chill(F)  \\\n",
       "count  6407.000000  6407.000000        6407.000000    6407.000000   \n",
       "mean      0.050726    12.873888           3.417668      59.478726   \n",
       "std       0.219454     5.824203           3.624300       6.565851   \n",
       "min       0.000000     0.000000          -1.000000      31.100000   \n",
       "25%       0.000000     8.000000           1.000000      59.000000   \n",
       "50%       0.000000    14.000000           3.000000      59.000000   \n",
       "75%       0.000000    17.000000           4.000000      59.000000   \n",
       "max       1.000000    23.000000          25.000000      98.000000   \n",
       "\n",
       "       Precipitation(in)  Temperature(F)  Humidity(%)  Wind_Speed(mph)  \\\n",
       "count        6407.000000     6407.000000  6407.000000      6407.000000   \n",
       "mean            0.003431       59.938708    68.180115        10.827283   \n",
       "std             0.021158        7.945247    16.163445         6.350990   \n",
       "min             0.000000       36.000000    10.000000         0.000000   \n",
       "25%             0.000000       54.000000    59.000000         6.000000   \n",
       "50%             0.000000       59.000000    70.000000        10.000000   \n",
       "75%             0.000000       64.900000    80.000000        15.000000   \n",
       "max             0.490000       98.000000   100.000000        40.300000   \n",
       "\n",
       "       Visibility(mi)     Selected  \n",
       "count     6407.000000  6407.000000  \n",
       "mean         9.440529     0.000312  \n",
       "std          1.647528     0.017667  \n",
       "min          0.120000     0.000000  \n",
       "25%         10.000000     0.000000  \n",
       "50%         10.000000     0.000000  \n",
       "75%         10.000000     0.000000  \n",
       "max         10.000000     1.000000  \n",
       "\n",
       "[8 rows x 24 columns]"
      ]
     },
     "execution_count": 20,
     "metadata": {},
     "output_type": "execute_result"
    }
   ],
   "source": [
    "# df['holiday'] = df['holiday'].fillna(0)\n",
    "df=df.fillna(df.median())\n",
    "df.describe()"
   ]
  },
  {
   "cell_type": "code",
   "execution_count": 21,
   "id": "8621f817",
   "metadata": {
    "execution": {
     "iopub.execute_input": "2021-07-27T12:18:34.680471Z",
     "iopub.status.busy": "2021-07-27T12:18:34.679809Z",
     "iopub.status.idle": "2021-07-27T12:18:34.681690Z",
     "shell.execute_reply": "2021-07-27T12:18:34.682191Z",
     "shell.execute_reply.started": "2021-07-27T12:17:52.704270Z"
    },
    "papermill": {
     "duration": 0.053401,
     "end_time": "2021-07-27T12:18:34.682356",
     "exception": false,
     "start_time": "2021-07-27T12:18:34.628955",
     "status": "completed"
    },
    "tags": []
   },
   "outputs": [],
   "source": [
    "df=df.drop(columns = ['date'])"
   ]
  },
  {
   "cell_type": "code",
   "execution_count": 22,
   "id": "96a6a5e2",
   "metadata": {
    "execution": {
     "iopub.execute_input": "2021-07-27T12:18:34.778301Z",
     "iopub.status.busy": "2021-07-27T12:18:34.777663Z",
     "iopub.status.idle": "2021-07-27T12:18:34.797606Z",
     "shell.execute_reply": "2021-07-27T12:18:34.797105Z",
     "shell.execute_reply.started": "2021-07-27T12:17:52.712309Z"
    },
    "papermill": {
     "duration": 0.069474,
     "end_time": "2021-07-27T12:18:34.797743",
     "exception": false,
     "start_time": "2021-07-27T12:18:34.728269",
     "status": "completed"
    },
    "tags": []
   },
   "outputs": [
    {
     "data": {
      "text/plain": [
       "ID                   0.020703\n",
       "Lat                  0.099581\n",
       "Lng                  0.145313\n",
       "Distance(mi)        -0.013141\n",
       "Severity             1.000000\n",
       "f_Crossing          -0.090314\n",
       "f_Bump                    NaN\n",
       "f_Give_Way          -0.012186\n",
       "f_Junction          -0.068328\n",
       "f_No_Exit           -0.007034\n",
       "f_Railway           -0.033322\n",
       "f_Roundabout              NaN\n",
       "f_Stop               0.229269\n",
       "f_Amenity            0.078915\n",
       "f_Side              -0.060545\n",
       "hour                -0.019022\n",
       "Weather_Condition    0.050803\n",
       "Wind_Chill(F)       -0.014309\n",
       "Precipitation(in)    0.005668\n",
       "Temperature(F)      -0.018352\n",
       "Humidity(%)          0.076773\n",
       "Wind_Speed(mph)      0.020382\n",
       "Visibility(mi)      -0.015642\n",
       "Selected             0.023956\n",
       "Name: Severity, dtype: float64"
      ]
     },
     "execution_count": 22,
     "metadata": {},
     "output_type": "execute_result"
    }
   ],
   "source": [
    "corr=df.corr(method ='pearson')\n",
    "sev=corr['Severity']\n",
    "sev"
   ]
  },
  {
   "cell_type": "markdown",
   "id": "11c6b3ad",
   "metadata": {
    "papermill": {
     "duration": 0.045677,
     "end_time": "2021-07-27T12:18:34.889960",
     "exception": false,
     "start_time": "2021-07-27T12:18:34.844283",
     "status": "completed"
    },
    "tags": []
   },
   "source": [
    "## Data Splitting\n",
    "\n",
    "Now it's time to split the dataset for the training step. Typically the dataset is split into 3 subsets, namely, the training, validation and test sets. In our case, the test set is already predefined. So we'll split the \"training\" set into training and validation sets with 0.8:0.2 ratio. \n",
    "\n",
    "*Note: a good way to generate reproducible results is to set the seed to the algorithms that depends on randomization. This is done with the argument `random_state` in the following command* "
   ]
  },
  {
   "cell_type": "code",
   "execution_count": 23,
   "id": "075474c5",
   "metadata": {
    "execution": {
     "iopub.execute_input": "2021-07-27T12:18:34.989631Z",
     "iopub.status.busy": "2021-07-27T12:18:34.988982Z",
     "iopub.status.idle": "2021-07-27T12:18:35.961264Z",
     "shell.execute_reply": "2021-07-27T12:18:35.960689Z",
     "shell.execute_reply.started": "2021-07-27T12:17:52.739820Z"
    },
    "papermill": {
     "duration": 1.024299,
     "end_time": "2021-07-27T12:18:35.961409",
     "exception": false,
     "start_time": "2021-07-27T12:18:34.937110",
     "status": "completed"
    },
    "tags": []
   },
   "outputs": [],
   "source": [
    "from sklearn.model_selection import train_test_split\n",
    "\n",
    "X_train,X_val ,y_train,y_val = train_test_split(df,df['Severity'], test_size=0.2, stratify=df['Severity']) # Try adding `stratify` here\n",
    "\n",
    "\n",
    "X_train = X_train.drop(columns=['ID', 'Severity'])\n",
    "\n",
    "X_val = X_val.drop(columns=['ID', 'Severity'])\n"
   ]
  },
  {
   "cell_type": "code",
   "execution_count": 24,
   "id": "9f358b03",
   "metadata": {
    "execution": {
     "iopub.execute_input": "2021-07-27T12:18:36.059394Z",
     "iopub.status.busy": "2021-07-27T12:18:36.058466Z",
     "iopub.status.idle": "2021-07-27T12:18:36.061677Z",
     "shell.execute_reply": "2021-07-27T12:18:36.061129Z",
     "shell.execute_reply.started": "2021-07-27T12:17:53.061276Z"
    },
    "papermill": {
     "duration": 0.053316,
     "end_time": "2021-07-27T12:18:36.061816",
     "exception": false,
     "start_time": "2021-07-27T12:18:36.008500",
     "status": "completed"
    },
    "tags": []
   },
   "outputs": [],
   "source": [
    "# from sklearn.model_selection import train_test_split\n",
    "\n",
    "# train_df, val_df = train_test_split(df, test_size=0.2, random_state=39) # Try adding `stratify` here\n",
    "\n",
    "# X_train = train_df.drop(columns=['ID', 'Severity'])\n",
    "# y_train = train_df['Severity']\n",
    "\n",
    "# X_val = val_df.drop(columns=['ID', 'Severity'])\n",
    "# y_val = val_df['Severity']\n"
   ]
  },
  {
   "cell_type": "markdown",
   "id": "2370c0d0",
   "metadata": {
    "papermill": {
     "duration": 0.046401,
     "end_time": "2021-07-27T12:18:36.154555",
     "exception": false,
     "start_time": "2021-07-27T12:18:36.108154",
     "status": "completed"
    },
    "tags": []
   },
   "source": [
    "Weather_Condition\tWind_Chill(F)\tPrecipitation(in)\tTemperature(F)\tHumidity(%)\tWind_Speed(mph)\tVisibility(mi)\tSelected\tdate\thour"
   ]
  },
  {
   "cell_type": "markdown",
   "id": "eacd9ca6",
   "metadata": {
    "papermill": {
     "duration": 0.045532,
     "end_time": "2021-07-27T12:18:36.246636",
     "exception": false,
     "start_time": "2021-07-27T12:18:36.201104",
     "status": "completed"
    },
    "tags": []
   },
   "source": [
    "As pointed out eariler, I'll use the numerical features to train the classifier. **However, you shouldn't use the numerical features only to make the final submission if you want to make it to the top of the leaderboard.** "
   ]
  },
  {
   "cell_type": "code",
   "execution_count": 25,
   "id": "a180f336",
   "metadata": {
    "execution": {
     "iopub.execute_input": "2021-07-27T12:18:36.341679Z",
     "iopub.status.busy": "2021-07-27T12:18:36.341078Z",
     "iopub.status.idle": "2021-07-27T12:18:36.343944Z",
     "shell.execute_reply": "2021-07-27T12:18:36.344449Z",
     "shell.execute_reply.started": "2021-07-27T12:17:53.066825Z"
    },
    "papermill": {
     "duration": 0.051782,
     "end_time": "2021-07-27T12:18:36.344600",
     "exception": false,
     "start_time": "2021-07-27T12:18:36.292818",
     "status": "completed"
    },
    "tags": []
   },
   "outputs": [],
   "source": [
    "# # This cell is used to select the numerical features. IT SHOULD BE REMOVED AS YOU DO YOUR WORK.\n",
    "\n",
    "# X_train = X_train[['Lat', 'Lng', 'Distance(mi)', 'f_Crossing', 'f_Junction', 'f_Give_Way',  'f_Railway','Visibility(mi)', 'f_Stop', 'f_Amenity', 'Selected', 'Weather_Condition','holiday','hour','Wind_Chill(F)','Precipitation(in)','Temperature(F)','Humidity(%)','Wind_Speed(mph)']]\n",
    "# X_val = X_val    [['Lat', 'Lng', 'Distance(mi)', 'f_Crossing', 'f_Junction', 'f_Give_Way',  'f_Railway','Visibility(mi)', 'f_Stop', 'f_Amenity', 'Selected', 'Weather_Condition','holiday','hour','Wind_Chill(F)','Precipitation(in)','Temperature(F)','Humidity(%)','Wind_Speed(mph)']]"
   ]
  },
  {
   "cell_type": "code",
   "execution_count": 26,
   "id": "67dacef2",
   "metadata": {
    "execution": {
     "iopub.execute_input": "2021-07-27T12:18:36.439202Z",
     "iopub.status.busy": "2021-07-27T12:18:36.438546Z",
     "iopub.status.idle": "2021-07-27T12:18:36.446086Z",
     "shell.execute_reply": "2021-07-27T12:18:36.446605Z",
     "shell.execute_reply.started": "2021-07-27T12:17:53.081091Z"
    },
    "papermill": {
     "duration": 0.056418,
     "end_time": "2021-07-27T12:18:36.446783",
     "exception": false,
     "start_time": "2021-07-27T12:18:36.390365",
     "status": "completed"
    },
    "tags": []
   },
   "outputs": [],
   "source": [
    "# This cell is used to select the numerical features. IT SHOULD BE REMOVED AS YOU DO YOUR WORK.\n",
    "\n",
    "X_train = X_train[['f_Stop','Lng','Lat','f_Crossing','Humidity(%)','f_Junction','f_Side','Weather_Condition','f_Amenity','Distance(mi)','f_Railway','Selected','Wind_Speed(mph)','Precipitation(in)','f_No_Exit','f_Give_Way','Wind_Chill(F)','hour','f_Side' ]]\n",
    "X_val = X_val    [['f_Stop','Lng','Lat','f_Crossing','Humidity(%)','f_Junction','f_Side','Weather_Condition','f_Amenity','Distance(mi)','f_Railway','Selected','Wind_Speed(mph)','Precipitation(in)','f_No_Exit','f_Give_Way','Wind_Chill(F)','hour','f_Side']]"
   ]
  },
  {
   "cell_type": "markdown",
   "id": "efd23984",
   "metadata": {
    "papermill": {
     "duration": 0.045468,
     "end_time": "2021-07-27T12:18:36.538654",
     "exception": false,
     "start_time": "2021-07-27T12:18:36.493186",
     "status": "completed"
    },
    "tags": []
   },
   "source": []
  },
  {
   "cell_type": "markdown",
   "id": "96db39af",
   "metadata": {
    "papermill": {
     "duration": 0.045327,
     "end_time": "2021-07-27T12:18:36.629722",
     "exception": false,
     "start_time": "2021-07-27T12:18:36.584395",
     "status": "completed"
    },
    "tags": []
   },
   "source": [
    "Weather_Condition    0.050803\n",
    "f_Side               0.060545\n",
    "f_Junction           0.068328\n",
    "Humidity(%)          0.076773\n",
    "f_Amenity            0.078915\n",
    "f_Crossing           0.090314\n",
    "Lat                  0.099581\n",
    "Lng                  0.145313\n",
    "f_Stop               0.229269"
   ]
  },
  {
   "cell_type": "markdown",
   "id": "77accdac",
   "metadata": {
    "papermill": {
     "duration": 0.045623,
     "end_time": "2021-07-27T12:18:36.721137",
     "exception": false,
     "start_time": "2021-07-27T12:18:36.675514",
     "status": "completed"
    },
    "tags": []
   },
   "source": [
    "## Model Training\n",
    "\n",
    "Let's train a model with the data! We'll train a Random Forest Classifier to demonstrate the process of making submissions. "
   ]
  },
  {
   "cell_type": "code",
   "execution_count": 27,
   "id": "2bcd7d4c",
   "metadata": {
    "execution": {
     "iopub.execute_input": "2021-07-27T12:18:36.816032Z",
     "iopub.status.busy": "2021-07-27T12:18:36.815408Z",
     "iopub.status.idle": "2021-07-27T12:18:37.328413Z",
     "shell.execute_reply": "2021-07-27T12:18:37.327759Z",
     "shell.execute_reply.started": "2021-07-27T12:17:53.091981Z"
    },
    "papermill": {
     "duration": 0.56122,
     "end_time": "2021-07-27T12:18:37.328569",
     "exception": false,
     "start_time": "2021-07-27T12:18:36.767349",
     "status": "completed"
    },
    "tags": []
   },
   "outputs": [],
   "source": [
    "from sklearn.ensemble import RandomForestClassifier\n",
    "\n",
    "# Create an instance of the classifier\n",
    "classifier = RandomForestClassifier(max_depth=2, random_state=0)\n",
    "\n",
    "# Train the classifier\n",
    "classifier = classifier.fit(X_train, y_train)"
   ]
  },
  {
   "cell_type": "markdown",
   "id": "a3d8c1f9",
   "metadata": {
    "papermill": {
     "duration": 0.046324,
     "end_time": "2021-07-27T12:18:37.421585",
     "exception": false,
     "start_time": "2021-07-27T12:18:37.375261",
     "status": "completed"
    },
    "tags": []
   },
   "source": [
    "Now let's test our classifier on the validation dataset and see the accuracy."
   ]
  },
  {
   "cell_type": "code",
   "execution_count": 28,
   "id": "d70f83be",
   "metadata": {
    "execution": {
     "iopub.execute_input": "2021-07-27T12:18:37.522811Z",
     "iopub.status.busy": "2021-07-27T12:18:37.521591Z",
     "iopub.status.idle": "2021-07-27T12:18:37.543792Z",
     "shell.execute_reply": "2021-07-27T12:18:37.544282Z",
     "shell.execute_reply.started": "2021-07-27T12:17:53.453277Z"
    },
    "papermill": {
     "duration": 0.076331,
     "end_time": "2021-07-27T12:18:37.544461",
     "exception": false,
     "start_time": "2021-07-27T12:18:37.468130",
     "status": "completed"
    },
    "tags": []
   },
   "outputs": [
    {
     "name": "stdout",
     "output_type": "stream",
     "text": [
      "The accuracy of the classifier on the validation set is  0.7402496099843994\n"
     ]
    }
   ],
   "source": [
    "print(\"The accuracy of the classifier on the validation set is \", (classifier.score(X_val, y_val)))"
   ]
  },
  {
   "cell_type": "markdown",
   "id": "77be9058",
   "metadata": {
    "papermill": {
     "duration": 0.045812,
     "end_time": "2021-07-27T12:18:37.636731",
     "exception": false,
     "start_time": "2021-07-27T12:18:37.590919",
     "status": "completed"
    },
    "tags": []
   },
   "source": [
    "Well. That's a good start, right? A classifier that predicts all examples' `Severity` as 2 will get around 0.63. You should get better score as you add more features and do better data preprocessing."
   ]
  },
  {
   "cell_type": "code",
   "execution_count": null,
   "id": "8a51e261",
   "metadata": {
    "papermill": {
     "duration": 0.045994,
     "end_time": "2021-07-27T12:18:37.729234",
     "exception": false,
     "start_time": "2021-07-27T12:18:37.683240",
     "status": "completed"
    },
    "tags": []
   },
   "outputs": [],
   "source": []
  },
  {
   "cell_type": "markdown",
   "id": "d583e8f5",
   "metadata": {
    "papermill": {
     "duration": 0.045906,
     "end_time": "2021-07-27T12:18:37.822309",
     "exception": false,
     "start_time": "2021-07-27T12:18:37.776403",
     "status": "completed"
    },
    "tags": []
   },
   "source": [
    "## Submission File Generation\n",
    "\n",
    "We have built a model and we'd like to submit our predictions on the test set! In order to do that, we'll load the test set, predict the class and save the submission file. \n",
    "\n",
    "First, we'll load the data."
   ]
  },
  {
   "cell_type": "code",
   "execution_count": 29,
   "id": "438b6bad",
   "metadata": {
    "execution": {
     "iopub.execute_input": "2021-07-27T12:18:37.921473Z",
     "iopub.status.busy": "2021-07-27T12:18:37.920810Z",
     "iopub.status.idle": "2021-07-27T12:18:37.954416Z",
     "shell.execute_reply": "2021-07-27T12:18:37.953780Z",
     "shell.execute_reply.started": "2021-07-27T12:17:53.480738Z"
    },
    "papermill": {
     "duration": 0.084639,
     "end_time": "2021-07-27T12:18:37.954551",
     "exception": false,
     "start_time": "2021-07-27T12:18:37.869912",
     "status": "completed"
    },
    "tags": []
   },
   "outputs": [
    {
     "data": {
      "text/html": [
       "<div>\n",
       "<style scoped>\n",
       "    .dataframe tbody tr th:only-of-type {\n",
       "        vertical-align: middle;\n",
       "    }\n",
       "\n",
       "    .dataframe tbody tr th {\n",
       "        vertical-align: top;\n",
       "    }\n",
       "\n",
       "    .dataframe thead th {\n",
       "        text-align: right;\n",
       "    }\n",
       "</style>\n",
       "<table border=\"1\" class=\"dataframe\">\n",
       "  <thead>\n",
       "    <tr style=\"text-align: right;\">\n",
       "      <th></th>\n",
       "      <th>ID</th>\n",
       "      <th>Lat</th>\n",
       "      <th>Lng</th>\n",
       "      <th>Bump</th>\n",
       "      <th>Distance(mi)</th>\n",
       "      <th>Crossing</th>\n",
       "      <th>Give_Way</th>\n",
       "      <th>Junction</th>\n",
       "      <th>No_Exit</th>\n",
       "      <th>Railway</th>\n",
       "      <th>Roundabout</th>\n",
       "      <th>Stop</th>\n",
       "      <th>Amenity</th>\n",
       "      <th>Side</th>\n",
       "      <th>timestamp</th>\n",
       "    </tr>\n",
       "  </thead>\n",
       "  <tbody>\n",
       "    <tr>\n",
       "      <th>0</th>\n",
       "      <td>6407</td>\n",
       "      <td>37.786060</td>\n",
       "      <td>-122.390900</td>\n",
       "      <td>False</td>\n",
       "      <td>0.039</td>\n",
       "      <td>False</td>\n",
       "      <td>False</td>\n",
       "      <td>True</td>\n",
       "      <td>False</td>\n",
       "      <td>False</td>\n",
       "      <td>False</td>\n",
       "      <td>False</td>\n",
       "      <td>False</td>\n",
       "      <td>R</td>\n",
       "      <td>2016-04-04 19:20:31</td>\n",
       "    </tr>\n",
       "    <tr>\n",
       "      <th>1</th>\n",
       "      <td>6408</td>\n",
       "      <td>37.769609</td>\n",
       "      <td>-122.415057</td>\n",
       "      <td>False</td>\n",
       "      <td>0.202</td>\n",
       "      <td>False</td>\n",
       "      <td>False</td>\n",
       "      <td>False</td>\n",
       "      <td>False</td>\n",
       "      <td>False</td>\n",
       "      <td>False</td>\n",
       "      <td>False</td>\n",
       "      <td>False</td>\n",
       "      <td>R</td>\n",
       "      <td>2020-10-28 11:51:00</td>\n",
       "    </tr>\n",
       "    <tr>\n",
       "      <th>2</th>\n",
       "      <td>6409</td>\n",
       "      <td>37.807495</td>\n",
       "      <td>-122.476021</td>\n",
       "      <td>False</td>\n",
       "      <td>0.000</td>\n",
       "      <td>False</td>\n",
       "      <td>False</td>\n",
       "      <td>False</td>\n",
       "      <td>False</td>\n",
       "      <td>False</td>\n",
       "      <td>False</td>\n",
       "      <td>False</td>\n",
       "      <td>False</td>\n",
       "      <td>R</td>\n",
       "      <td>2019-09-09 07:36:45</td>\n",
       "    </tr>\n",
       "    <tr>\n",
       "      <th>3</th>\n",
       "      <td>6410</td>\n",
       "      <td>37.761818</td>\n",
       "      <td>-122.405869</td>\n",
       "      <td>False</td>\n",
       "      <td>0.000</td>\n",
       "      <td>False</td>\n",
       "      <td>False</td>\n",
       "      <td>True</td>\n",
       "      <td>False</td>\n",
       "      <td>False</td>\n",
       "      <td>False</td>\n",
       "      <td>False</td>\n",
       "      <td>False</td>\n",
       "      <td>R</td>\n",
       "      <td>2019-08-06 15:46:25</td>\n",
       "    </tr>\n",
       "    <tr>\n",
       "      <th>4</th>\n",
       "      <td>6411</td>\n",
       "      <td>37.732350</td>\n",
       "      <td>-122.414100</td>\n",
       "      <td>False</td>\n",
       "      <td>0.670</td>\n",
       "      <td>False</td>\n",
       "      <td>False</td>\n",
       "      <td>False</td>\n",
       "      <td>False</td>\n",
       "      <td>False</td>\n",
       "      <td>False</td>\n",
       "      <td>False</td>\n",
       "      <td>False</td>\n",
       "      <td>R</td>\n",
       "      <td>2018-10-17 09:54:58</td>\n",
       "    </tr>\n",
       "  </tbody>\n",
       "</table>\n",
       "</div>"
      ],
      "text/plain": [
       "     ID        Lat         Lng   Bump  Distance(mi)  Crossing  Give_Way  \\\n",
       "0  6407  37.786060 -122.390900  False         0.039     False     False   \n",
       "1  6408  37.769609 -122.415057  False         0.202     False     False   \n",
       "2  6409  37.807495 -122.476021  False         0.000     False     False   \n",
       "3  6410  37.761818 -122.405869  False         0.000     False     False   \n",
       "4  6411  37.732350 -122.414100  False         0.670     False     False   \n",
       "\n",
       "   Junction  No_Exit  Railway  Roundabout   Stop  Amenity Side  \\\n",
       "0      True    False    False       False  False    False    R   \n",
       "1     False    False    False       False  False    False    R   \n",
       "2     False    False    False       False  False    False    R   \n",
       "3      True    False    False       False  False    False    R   \n",
       "4     False    False    False       False  False    False    R   \n",
       "\n",
       "             timestamp  \n",
       "0  2016-04-04 19:20:31  \n",
       "1  2020-10-28 11:51:00  \n",
       "2  2019-09-09 07:36:45  \n",
       "3  2019-08-06 15:46:25  \n",
       "4  2018-10-17 09:54:58  "
      ]
     },
     "execution_count": 29,
     "metadata": {},
     "output_type": "execute_result"
    }
   ],
   "source": [
    "test_df = pd.read_csv(os.path.join(dataset_path, 'test.csv'))\n",
    "\n",
    "test_df.head()"
   ]
  },
  {
   "cell_type": "code",
   "execution_count": 30,
   "id": "c146522b",
   "metadata": {
    "execution": {
     "iopub.execute_input": "2021-07-27T12:18:38.068147Z",
     "iopub.status.busy": "2021-07-27T12:18:38.067357Z",
     "iopub.status.idle": "2021-07-27T12:18:38.070417Z",
     "shell.execute_reply": "2021-07-27T12:18:38.069915Z",
     "shell.execute_reply.started": "2021-07-27T12:17:53.509700Z"
    },
    "papermill": {
     "duration": 0.067511,
     "end_time": "2021-07-27T12:18:38.070556",
     "exception": false,
     "start_time": "2021-07-27T12:18:38.003045",
     "status": "completed"
    },
    "tags": []
   },
   "outputs": [],
   "source": [
    "test_df['f_Crossing'] , _   = pd.factorize(test_df['Crossing'])\n",
    "test_df['f_Bump'] , _       = pd.factorize(test_df['Bump'])\n",
    "test_df['f_Give_Way'] , _   = pd.factorize(test_df['Give_Way'])\n",
    "test_df['f_Junction'] , _   = pd.factorize(test_df['Junction'])\n",
    "test_df['f_No_Exit'] , _    = pd.factorize(test_df['No_Exit'])\n",
    "test_df['f_Railway'] , _    = pd.factorize(test_df['Railway'])\n",
    "test_df['f_Roundabout'] , _ = pd.factorize(test_df['Roundabout'])\n",
    "test_df['f_Stop'] , _       = pd.factorize(test_df['Stop'])\n",
    "test_df['f_Amenity'] , _    = pd.factorize(test_df['Amenity'])\n",
    "test_df['f_Side'] , _       = pd.factorize(test_df['Side'])\n",
    "\n",
    "\n"
   ]
  },
  {
   "cell_type": "code",
   "execution_count": 31,
   "id": "536b5729",
   "metadata": {
    "execution": {
     "iopub.execute_input": "2021-07-27T12:18:38.176801Z",
     "iopub.status.busy": "2021-07-27T12:18:38.175915Z",
     "iopub.status.idle": "2021-07-27T12:18:38.179819Z",
     "shell.execute_reply": "2021-07-27T12:18:38.180319Z",
     "shell.execute_reply.started": "2021-07-27T12:17:53.530110Z"
    },
    "papermill": {
     "duration": 0.062378,
     "end_time": "2021-07-27T12:18:38.180508",
     "exception": false,
     "start_time": "2021-07-27T12:18:38.118130",
     "status": "completed"
    },
    "tags": []
   },
   "outputs": [],
   "source": [
    "\n",
    "test_df['time']=pd.to_datetime(test_df['timestamp'])\n",
    "\n",
    "test_df['time_date'] = [d[0:10] for d in test_df['timestamp']]\n",
    "\n",
    "\n",
    "test_df['date']=pd.to_datetime(test_df['time_date'])\n",
    "\n",
    "test_df['hour']=test_df['time'].dt.hour\n"
   ]
  },
  {
   "cell_type": "code",
   "execution_count": 32,
   "id": "b771480e",
   "metadata": {
    "execution": {
     "iopub.execute_input": "2021-07-27T12:18:38.283251Z",
     "iopub.status.busy": "2021-07-27T12:18:38.281633Z",
     "iopub.status.idle": "2021-07-27T12:18:38.298044Z",
     "shell.execute_reply": "2021-07-27T12:18:38.297447Z",
     "shell.execute_reply.started": "2021-07-27T12:17:53.542731Z"
    },
    "papermill": {
     "duration": 0.070339,
     "end_time": "2021-07-27T12:18:38.298216",
     "exception": false,
     "start_time": "2021-07-27T12:18:38.227877",
     "status": "completed"
    },
    "tags": []
   },
   "outputs": [],
   "source": [
    "test_df =pd.merge(test_df,df_weather1,on=['date','hour'],how='left').drop_duplicates(\"ID\")\n",
    "# test_df =pd.merge(test_df,df_holiday,on='date',how='left')\n"
   ]
  },
  {
   "cell_type": "code",
   "execution_count": 33,
   "id": "c5f2e87b",
   "metadata": {
    "execution": {
     "iopub.execute_input": "2021-07-27T12:18:38.398237Z",
     "iopub.status.busy": "2021-07-27T12:18:38.397495Z",
     "iopub.status.idle": "2021-07-27T12:18:38.407058Z",
     "shell.execute_reply": "2021-07-27T12:18:38.406507Z",
     "shell.execute_reply.started": "2021-07-27T12:17:53.570558Z"
    },
    "papermill": {
     "duration": 0.060855,
     "end_time": "2021-07-27T12:18:38.407211",
     "exception": false,
     "start_time": "2021-07-27T12:18:38.346356",
     "status": "completed"
    },
    "tags": []
   },
   "outputs": [],
   "source": [
    "\n",
    "# test_df['holiday'] = test_df['holiday'].fillna(0)\n",
    "test_df=test_df.fillna(df.median())\n"
   ]
  },
  {
   "cell_type": "code",
   "execution_count": 34,
   "id": "399a3490",
   "metadata": {
    "execution": {
     "iopub.execute_input": "2021-07-27T12:18:38.511789Z",
     "iopub.status.busy": "2021-07-27T12:18:38.510807Z",
     "iopub.status.idle": "2021-07-27T12:18:38.514268Z",
     "shell.execute_reply": "2021-07-27T12:18:38.514762Z",
     "shell.execute_reply.started": "2021-07-27T12:17:53.583977Z"
    },
    "papermill": {
     "duration": 0.06067,
     "end_time": "2021-07-27T12:18:38.514962",
     "exception": false,
     "start_time": "2021-07-27T12:18:38.454292",
     "status": "completed"
    },
    "tags": []
   },
   "outputs": [],
   "source": [
    "test_df=test_df.drop(columns = ['Crossing','Bump','Give_Way','Junction','No_Exit','Railway','Roundabout','Stop','Amenity','Side'])"
   ]
  },
  {
   "cell_type": "markdown",
   "id": "65d89f5d",
   "metadata": {
    "papermill": {
     "duration": 0.05105,
     "end_time": "2021-07-27T12:18:38.628467",
     "exception": false,
     "start_time": "2021-07-27T12:18:38.577417",
     "status": "completed"
    },
    "tags": []
   },
   "source": [
    "Note that the test set has the same features and doesn't have the `Severity` column.\n",
    "At this stage one must **NOT** forget to apply the same processing done on the training set on the features of the test set.\n",
    "\n",
    "Now we'll add `Severity` column to the test `DataFrame` and add the values of the predicted class to it.\n",
    "\n",
    "**I'll select the numerical features here as I did in the training set. DO NOT forget to change this step as you change the preprocessing of the training data.**"
   ]
  },
  {
   "cell_type": "code",
   "execution_count": 35,
   "id": "fc91ce31",
   "metadata": {
    "execution": {
     "iopub.execute_input": "2021-07-27T12:18:38.753624Z",
     "iopub.status.busy": "2021-07-27T12:18:38.752690Z",
     "iopub.status.idle": "2021-07-27T12:18:38.781604Z",
     "shell.execute_reply": "2021-07-27T12:18:38.782419Z",
     "shell.execute_reply.started": "2021-07-27T12:17:53.592128Z"
    },
    "papermill": {
     "duration": 0.106146,
     "end_time": "2021-07-27T12:18:38.782652",
     "exception": false,
     "start_time": "2021-07-27T12:18:38.676506",
     "status": "completed"
    },
    "tags": []
   },
   "outputs": [],
   "source": [
    "X_test = test_df.drop(columns=['ID'])\n",
    "\n",
    "# You should update/remove the next line once you change the features used for training\n",
    "X_test = X_test[['f_Stop','Lng','Lat','f_Crossing','Humidity(%)','f_Junction','f_Side','Weather_Condition','f_Amenity','Distance(mi)','f_Railway','Selected','Wind_Speed(mph)','Precipitation(in)','f_No_Exit','f_Give_Way','Wind_Chill(F)','hour','f_Side' ]]\n",
    "\n",
    "y_test_predicted = classifier.predict(X_test)\n",
    "\n",
    "test_df['Severity'] = y_test_predicted"
   ]
  },
  {
   "cell_type": "markdown",
   "id": "37713e9c",
   "metadata": {
    "papermill": {
     "duration": 0.059747,
     "end_time": "2021-07-27T12:18:38.913704",
     "exception": false,
     "start_time": "2021-07-27T12:18:38.853957",
     "status": "completed"
    },
    "tags": []
   },
   "source": [
    "Now we're ready to generate the submission file. The submission file needs the columns `ID` and `Severity` only."
   ]
  },
  {
   "cell_type": "code",
   "execution_count": 36,
   "id": "72b3fef5",
   "metadata": {
    "execution": {
     "iopub.execute_input": "2021-07-27T12:18:39.015524Z",
     "iopub.status.busy": "2021-07-27T12:18:39.014735Z",
     "iopub.status.idle": "2021-07-27T12:18:39.025408Z",
     "shell.execute_reply": "2021-07-27T12:18:39.024700Z",
     "shell.execute_reply.started": "2021-07-27T12:17:53.630536Z"
    },
    "papermill": {
     "duration": 0.064492,
     "end_time": "2021-07-27T12:18:39.025587",
     "exception": false,
     "start_time": "2021-07-27T12:18:38.961095",
     "status": "completed"
    },
    "tags": []
   },
   "outputs": [],
   "source": [
    "test_df[['ID', 'Severity']].to_csv('/kaggle/working/submission.csv', index=False)"
   ]
  },
  {
   "cell_type": "markdown",
   "id": "a6faf402",
   "metadata": {
    "papermill": {
     "duration": 0.047246,
     "end_time": "2021-07-27T12:18:39.121458",
     "exception": false,
     "start_time": "2021-07-27T12:18:39.074212",
     "status": "completed"
    },
    "tags": []
   },
   "source": [
    "The remaining steps is to submit the generated file and are as follows. \n",
    "\n",
    "1. Press `Save Version` on the upper right corner of this notebook.\n",
    "2. Write a `Version Name` of your choice and choose `Save & Run All (Commit)` then click `Save`.\n",
    "3. Wait for the saved notebook to finish running the go to the saved notebook.\n",
    "4. Scroll down until you see the output files then select the `submission.csv` file and click `Submit`.\n",
    "\n",
    "Now your submission will be evaluated and your score will be updated on the leaderboard! CONGRATULATIONS!!"
   ]
  },
  {
   "cell_type": "markdown",
   "id": "201a0ba7",
   "metadata": {
    "papermill": {
     "duration": 0.048627,
     "end_time": "2021-07-27T12:18:39.219851",
     "exception": false,
     "start_time": "2021-07-27T12:18:39.171224",
     "status": "completed"
    },
    "tags": []
   },
   "source": [
    "## Conclusion\n",
    "\n",
    "In this notebook, we have demonstrated the essential steps that one should do in order to get \"slightly\" familiar with the data and the submission process. We chose not to go into details in each step to keep the welcoming notebook simple and make a room for improvement.\n",
    "\n",
    "You're encourged to `Fork` the notebook, edit it, add your insights and use it to create your submission."
   ]
  },
  {
   "cell_type": "code",
   "execution_count": null,
   "id": "8715ec12",
   "metadata": {
    "papermill": {
     "duration": 0.047138,
     "end_time": "2021-07-27T12:18:39.315941",
     "exception": false,
     "start_time": "2021-07-27T12:18:39.268803",
     "status": "completed"
    },
    "tags": []
   },
   "outputs": [],
   "source": []
  },
  {
   "cell_type": "code",
   "execution_count": null,
   "id": "a1401663",
   "metadata": {
    "papermill": {
     "duration": 0.046529,
     "end_time": "2021-07-27T12:18:39.412413",
     "exception": false,
     "start_time": "2021-07-27T12:18:39.365884",
     "status": "completed"
    },
    "tags": []
   },
   "outputs": [],
   "source": []
  }
 ],
 "metadata": {
  "kernelspec": {
   "display_name": "Python 3",
   "language": "python",
   "name": "python3"
  },
  "language_info": {
   "codemirror_mode": {
    "name": "ipython",
    "version": 3
   },
   "file_extension": ".py",
   "mimetype": "text/x-python",
   "name": "python",
   "nbconvert_exporter": "python",
   "pygments_lexer": "ipython3",
   "version": "3.7.10"
  },
  "papermill": {
   "default_parameters": {},
   "duration": 17.923479,
   "end_time": "2021-07-27T12:18:40.752043",
   "environment_variables": {},
   "exception": null,
   "input_path": "__notebook__.ipynb",
   "output_path": "__notebook__.ipynb",
   "parameters": {},
   "start_time": "2021-07-27T12:18:22.828564",
   "version": "2.3.3"
  }
 },
 "nbformat": 4,
 "nbformat_minor": 5
}
