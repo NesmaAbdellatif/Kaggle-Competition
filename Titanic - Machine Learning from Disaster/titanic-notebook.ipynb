{
 "cells": [
  {
   "cell_type": "markdown",
   "id": "3db9bbf4",
   "metadata": {
    "papermill": {
     "duration": 0.0399,
     "end_time": "2021-10-02T07:29:53.879816",
     "exception": false,
     "start_time": "2021-10-02T07:29:53.839916",
     "status": "completed"
    },
    "tags": []
   },
   "source": [
    "# Importing Libraries"
   ]
  },
  {
   "cell_type": "code",
   "execution_count": 1,
   "id": "2e4ee1bc",
   "metadata": {
    "execution": {
     "iopub.execute_input": "2021-10-02T07:29:53.975154Z",
     "iopub.status.busy": "2021-10-02T07:29:53.974457Z",
     "iopub.status.idle": "2021-10-02T07:29:55.451324Z",
     "shell.execute_reply": "2021-10-02T07:29:55.450493Z",
     "shell.execute_reply.started": "2021-10-02T07:24:28.659528Z"
    },
    "papermill": {
     "duration": 1.528755,
     "end_time": "2021-10-02T07:29:55.451493",
     "exception": false,
     "start_time": "2021-10-02T07:29:53.922738",
     "status": "completed"
    },
    "tags": []
   },
   "outputs": [],
   "source": [
    "import numpy as np\n",
    "import pandas as pd\n",
    "import matplotlib.pyplot as plt\n",
    "import seaborn as sns\n",
    "\n",
    "from sklearn.metrics import plot_confusion_matrix, classification_report, f1_score\n",
    "from sklearn.model_selection import train_test_split ,GridSearchCV, cross_val_score\n",
    "from sklearn.preprocessing import StandardScaler\n",
    "\n",
    "from scipy.stats import norm\n",
    "from scipy import stats\n",
    "\n",
    "#Classification Models:\n",
    "from sklearn.linear_model import LogisticRegression\n",
    "from sklearn.neighbors import KNeighborsClassifier\n",
    "from sklearn.svm import SVC\n",
    "from sklearn.tree import DecisionTreeClassifier\n",
    "from sklearn.ensemble import RandomForestClassifier, VotingClassifier, StackingClassifier\n",
    "\n",
    "#Supress Warnings:\n",
    "import warnings\n",
    "warnings.filterwarnings('ignore')"
   ]
  },
  {
   "cell_type": "markdown",
   "id": "d21bec65",
   "metadata": {
    "papermill": {
     "duration": 0.037177,
     "end_time": "2021-10-02T07:29:55.527079",
     "exception": false,
     "start_time": "2021-10-02T07:29:55.489902",
     "status": "completed"
    },
    "tags": []
   },
   "source": [
    "# Load training and test sets"
   ]
  },
  {
   "cell_type": "code",
   "execution_count": 2,
   "id": "586935b0",
   "metadata": {
    "execution": {
     "iopub.execute_input": "2021-10-02T07:29:55.609060Z",
     "iopub.status.busy": "2021-10-02T07:29:55.608207Z",
     "iopub.status.idle": "2021-10-02T07:29:55.666856Z",
     "shell.execute_reply": "2021-10-02T07:29:55.667353Z",
     "shell.execute_reply.started": "2021-10-02T07:24:28.833758Z"
    },
    "papermill": {
     "duration": 0.102697,
     "end_time": "2021-10-02T07:29:55.667518",
     "exception": false,
     "start_time": "2021-10-02T07:29:55.564821",
     "status": "completed"
    },
    "scrolled": true,
    "tags": []
   },
   "outputs": [
    {
     "data": {
      "text/html": [
       "<div>\n",
       "<style scoped>\n",
       "    .dataframe tbody tr th:only-of-type {\n",
       "        vertical-align: middle;\n",
       "    }\n",
       "\n",
       "    .dataframe tbody tr th {\n",
       "        vertical-align: top;\n",
       "    }\n",
       "\n",
       "    .dataframe thead th {\n",
       "        text-align: right;\n",
       "    }\n",
       "</style>\n",
       "<table border=\"1\" class=\"dataframe\">\n",
       "  <thead>\n",
       "    <tr style=\"text-align: right;\">\n",
       "      <th></th>\n",
       "      <th>Survived</th>\n",
       "      <th>Pclass</th>\n",
       "      <th>Name</th>\n",
       "      <th>Sex</th>\n",
       "      <th>Age</th>\n",
       "      <th>SibSp</th>\n",
       "      <th>Parch</th>\n",
       "      <th>Ticket</th>\n",
       "      <th>Fare</th>\n",
       "      <th>Cabin</th>\n",
       "      <th>Embarked</th>\n",
       "    </tr>\n",
       "    <tr>\n",
       "      <th>PassengerId</th>\n",
       "      <th></th>\n",
       "      <th></th>\n",
       "      <th></th>\n",
       "      <th></th>\n",
       "      <th></th>\n",
       "      <th></th>\n",
       "      <th></th>\n",
       "      <th></th>\n",
       "      <th></th>\n",
       "      <th></th>\n",
       "      <th></th>\n",
       "    </tr>\n",
       "  </thead>\n",
       "  <tbody>\n",
       "    <tr>\n",
       "      <th>1</th>\n",
       "      <td>0</td>\n",
       "      <td>3</td>\n",
       "      <td>Braund, Mr. Owen Harris</td>\n",
       "      <td>male</td>\n",
       "      <td>22.0</td>\n",
       "      <td>1</td>\n",
       "      <td>0</td>\n",
       "      <td>A/5 21171</td>\n",
       "      <td>7.2500</td>\n",
       "      <td>NaN</td>\n",
       "      <td>S</td>\n",
       "    </tr>\n",
       "    <tr>\n",
       "      <th>2</th>\n",
       "      <td>1</td>\n",
       "      <td>1</td>\n",
       "      <td>Cumings, Mrs. John Bradley (Florence Briggs Th...</td>\n",
       "      <td>female</td>\n",
       "      <td>38.0</td>\n",
       "      <td>1</td>\n",
       "      <td>0</td>\n",
       "      <td>PC 17599</td>\n",
       "      <td>71.2833</td>\n",
       "      <td>C85</td>\n",
       "      <td>C</td>\n",
       "    </tr>\n",
       "    <tr>\n",
       "      <th>3</th>\n",
       "      <td>1</td>\n",
       "      <td>3</td>\n",
       "      <td>Heikkinen, Miss. Laina</td>\n",
       "      <td>female</td>\n",
       "      <td>26.0</td>\n",
       "      <td>0</td>\n",
       "      <td>0</td>\n",
       "      <td>STON/O2. 3101282</td>\n",
       "      <td>7.9250</td>\n",
       "      <td>NaN</td>\n",
       "      <td>S</td>\n",
       "    </tr>\n",
       "    <tr>\n",
       "      <th>4</th>\n",
       "      <td>1</td>\n",
       "      <td>1</td>\n",
       "      <td>Futrelle, Mrs. Jacques Heath (Lily May Peel)</td>\n",
       "      <td>female</td>\n",
       "      <td>35.0</td>\n",
       "      <td>1</td>\n",
       "      <td>0</td>\n",
       "      <td>113803</td>\n",
       "      <td>53.1000</td>\n",
       "      <td>C123</td>\n",
       "      <td>S</td>\n",
       "    </tr>\n",
       "    <tr>\n",
       "      <th>5</th>\n",
       "      <td>0</td>\n",
       "      <td>3</td>\n",
       "      <td>Allen, Mr. William Henry</td>\n",
       "      <td>male</td>\n",
       "      <td>35.0</td>\n",
       "      <td>0</td>\n",
       "      <td>0</td>\n",
       "      <td>373450</td>\n",
       "      <td>8.0500</td>\n",
       "      <td>NaN</td>\n",
       "      <td>S</td>\n",
       "    </tr>\n",
       "  </tbody>\n",
       "</table>\n",
       "</div>"
      ],
      "text/plain": [
       "             Survived  Pclass  \\\n",
       "PassengerId                     \n",
       "1                   0       3   \n",
       "2                   1       1   \n",
       "3                   1       3   \n",
       "4                   1       1   \n",
       "5                   0       3   \n",
       "\n",
       "                                                          Name     Sex   Age  \\\n",
       "PassengerId                                                                    \n",
       "1                                      Braund, Mr. Owen Harris    male  22.0   \n",
       "2            Cumings, Mrs. John Bradley (Florence Briggs Th...  female  38.0   \n",
       "3                                       Heikkinen, Miss. Laina  female  26.0   \n",
       "4                 Futrelle, Mrs. Jacques Heath (Lily May Peel)  female  35.0   \n",
       "5                                     Allen, Mr. William Henry    male  35.0   \n",
       "\n",
       "             SibSp  Parch            Ticket     Fare Cabin Embarked  \n",
       "PassengerId                                                          \n",
       "1                1      0         A/5 21171   7.2500   NaN        S  \n",
       "2                1      0          PC 17599  71.2833   C85        C  \n",
       "3                0      0  STON/O2. 3101282   7.9250   NaN        S  \n",
       "4                1      0            113803  53.1000  C123        S  \n",
       "5                0      0            373450   8.0500   NaN        S  "
      ]
     },
     "execution_count": 2,
     "metadata": {},
     "output_type": "execute_result"
    }
   ],
   "source": [
    "train_df = pd.read_csv('/kaggle/input/titanic/train.csv')\n",
    "test_df = pd.read_csv('/kaggle/input/titanic/test.csv')\n",
    "train_df = train_df.set_index(\"PassengerId\")\n",
    "train_df.head()"
   ]
  },
  {
   "cell_type": "markdown",
   "id": "df132a93",
   "metadata": {
    "papermill": {
     "duration": 0.037546,
     "end_time": "2021-10-02T07:29:55.743429",
     "exception": false,
     "start_time": "2021-10-02T07:29:55.705883",
     "status": "completed"
    },
    "tags": []
   },
   "source": [
    "# Exploratory Data Analysis(EDA)"
   ]
  },
  {
   "cell_type": "code",
   "execution_count": 3,
   "id": "31bf4626",
   "metadata": {
    "execution": {
     "iopub.execute_input": "2021-10-02T07:29:55.825517Z",
     "iopub.status.busy": "2021-10-02T07:29:55.824770Z",
     "iopub.status.idle": "2021-10-02T07:29:55.827846Z",
     "shell.execute_reply": "2021-10-02T07:29:55.828333Z",
     "shell.execute_reply.started": "2021-10-02T07:24:28.868048Z"
    },
    "papermill": {
     "duration": 0.047336,
     "end_time": "2021-10-02T07:29:55.828502",
     "exception": false,
     "start_time": "2021-10-02T07:29:55.781166",
     "status": "completed"
    },
    "tags": []
   },
   "outputs": [
    {
     "data": {
      "text/plain": [
       "(891, 11)"
      ]
     },
     "execution_count": 3,
     "metadata": {},
     "output_type": "execute_result"
    }
   ],
   "source": [
    "train_df.shape"
   ]
  },
  {
   "cell_type": "markdown",
   "id": "0e9884ff",
   "metadata": {
    "papermill": {
     "duration": 0.039099,
     "end_time": "2021-10-02T07:29:55.906689",
     "exception": false,
     "start_time": "2021-10-02T07:29:55.867590",
     "status": "completed"
    },
    "tags": []
   },
   "source": [
    "* dataset comprises of 891 observations and 11 chracteriestics"
   ]
  },
  {
   "cell_type": "code",
   "execution_count": 4,
   "id": "3a3ccfe3",
   "metadata": {
    "execution": {
     "iopub.execute_input": "2021-10-02T07:29:55.988231Z",
     "iopub.status.busy": "2021-10-02T07:29:55.987293Z",
     "iopub.status.idle": "2021-10-02T07:29:55.993270Z",
     "shell.execute_reply": "2021-10-02T07:29:55.993830Z",
     "shell.execute_reply.started": "2021-10-02T07:24:28.877341Z"
    },
    "papermill": {
     "duration": 0.04901,
     "end_time": "2021-10-02T07:29:55.994005",
     "exception": false,
     "start_time": "2021-10-02T07:29:55.944995",
     "status": "completed"
    },
    "tags": []
   },
   "outputs": [
    {
     "data": {
      "text/plain": [
       "array(['Survived', 'Pclass', 'Name', 'Sex', 'Age', 'SibSp', 'Parch',\n",
       "       'Ticket', 'Fare', 'Cabin', 'Embarked'], dtype=object)"
      ]
     },
     "execution_count": 4,
     "metadata": {},
     "output_type": "execute_result"
    }
   ],
   "source": [
    "train_df.columns.values"
   ]
  },
  {
   "cell_type": "markdown",
   "id": "0af7407b",
   "metadata": {
    "papermill": {
     "duration": 0.038521,
     "end_time": "2021-10-02T07:29:56.071916",
     "exception": false,
     "start_time": "2021-10-02T07:29:56.033395",
     "status": "completed"
    },
    "tags": []
   },
   "source": [
    "* Label of each column"
   ]
  },
  {
   "cell_type": "code",
   "execution_count": 5,
   "id": "ca51a0f2",
   "metadata": {
    "execution": {
     "iopub.execute_input": "2021-10-02T07:29:56.157272Z",
     "iopub.status.busy": "2021-10-02T07:29:56.154797Z",
     "iopub.status.idle": "2021-10-02T07:29:56.176108Z",
     "shell.execute_reply": "2021-10-02T07:29:56.176612Z",
     "shell.execute_reply.started": "2021-10-02T07:24:28.890339Z"
    },
    "papermill": {
     "duration": 0.065648,
     "end_time": "2021-10-02T07:29:56.176803",
     "exception": false,
     "start_time": "2021-10-02T07:29:56.111155",
     "status": "completed"
    },
    "tags": []
   },
   "outputs": [
    {
     "name": "stdout",
     "output_type": "stream",
     "text": [
      "<class 'pandas.core.frame.DataFrame'>\n",
      "Int64Index: 891 entries, 1 to 891\n",
      "Data columns (total 11 columns):\n",
      " #   Column    Non-Null Count  Dtype  \n",
      "---  ------    --------------  -----  \n",
      " 0   Survived  891 non-null    int64  \n",
      " 1   Pclass    891 non-null    int64  \n",
      " 2   Name      891 non-null    object \n",
      " 3   Sex       891 non-null    object \n",
      " 4   Age       714 non-null    float64\n",
      " 5   SibSp     891 non-null    int64  \n",
      " 6   Parch     891 non-null    int64  \n",
      " 7   Ticket    891 non-null    object \n",
      " 8   Fare      891 non-null    float64\n",
      " 9   Cabin     204 non-null    object \n",
      " 10  Embarked  889 non-null    object \n",
      "dtypes: float64(2), int64(4), object(5)\n",
      "memory usage: 83.5+ KB\n"
     ]
    }
   ],
   "source": [
    "train_df.info()"
   ]
  },
  {
   "cell_type": "markdown",
   "id": "c16ee029",
   "metadata": {
    "papermill": {
     "duration": 0.038891,
     "end_time": "2021-10-02T07:29:56.254722",
     "exception": false,
     "start_time": "2021-10-02T07:29:56.215831",
     "status": "completed"
    },
    "tags": []
   },
   "source": [
    "* Data has only float and integer, and object values"
   ]
  },
  {
   "cell_type": "code",
   "execution_count": 6,
   "id": "8c6867d4",
   "metadata": {
    "execution": {
     "iopub.execute_input": "2021-10-02T07:29:56.346426Z",
     "iopub.status.busy": "2021-10-02T07:29:56.345521Z",
     "iopub.status.idle": "2021-10-02T07:29:56.349156Z",
     "shell.execute_reply": "2021-10-02T07:29:56.349687Z",
     "shell.execute_reply.started": "2021-10-02T07:24:28.910154Z"
    },
    "papermill": {
     "duration": 0.056143,
     "end_time": "2021-10-02T07:29:56.349883",
     "exception": false,
     "start_time": "2021-10-02T07:29:56.293740",
     "status": "completed"
    },
    "tags": []
   },
   "outputs": [
    {
     "data": {
      "text/plain": [
       "Survived     0.00\n",
       "Pclass       0.00\n",
       "Name         0.00\n",
       "Sex          0.00\n",
       "Age         19.87\n",
       "SibSp        0.00\n",
       "Parch        0.00\n",
       "Ticket       0.00\n",
       "Fare         0.00\n",
       "Cabin       77.10\n",
       "Embarked     0.22\n",
       "dtype: float64"
      ]
     },
     "execution_count": 6,
     "metadata": {},
     "output_type": "execute_result"
    }
   ],
   "source": [
    "round(train_df.isnull().sum(axis=0)*100/train_df.shape[0],2)"
   ]
  },
  {
   "cell_type": "markdown",
   "id": "271b0244",
   "metadata": {
    "papermill": {
     "duration": 0.03924,
     "end_time": "2021-10-02T07:29:56.430155",
     "exception": false,
     "start_time": "2021-10-02T07:29:56.390915",
     "status": "completed"
    },
    "tags": []
   },
   "source": [
    "* There is missing values in Sex , Cabin, Embarked columns"
   ]
  },
  {
   "cell_type": "code",
   "execution_count": 7,
   "id": "3f4311a8",
   "metadata": {
    "execution": {
     "iopub.execute_input": "2021-10-02T07:29:56.512040Z",
     "iopub.status.busy": "2021-10-02T07:29:56.511362Z",
     "iopub.status.idle": "2021-10-02T07:29:56.526022Z",
     "shell.execute_reply": "2021-10-02T07:29:56.525431Z",
     "shell.execute_reply.started": "2021-10-02T07:24:28.925703Z"
    },
    "papermill": {
     "duration": 0.056771,
     "end_time": "2021-10-02T07:29:56.526179",
     "exception": false,
     "start_time": "2021-10-02T07:29:56.469408",
     "status": "completed"
    },
    "tags": []
   },
   "outputs": [
    {
     "name": "stdout",
     "output_type": "stream",
     "text": [
      "number of duplicate rows: (0, 11)\n"
     ]
    }
   ],
   "source": [
    "# Rows containing duplicate data\n",
    "duplicate_rows_df = train_df[train_df.duplicated()]\n",
    "print(f'number of duplicate rows: {duplicate_rows_df.shape}')"
   ]
  },
  {
   "cell_type": "markdown",
   "id": "34b53401",
   "metadata": {
    "papermill": {
     "duration": 0.041583,
     "end_time": "2021-10-02T07:29:56.610893",
     "exception": false,
     "start_time": "2021-10-02T07:29:56.569310",
     "status": "completed"
    },
    "tags": []
   },
   "source": [
    "* There is no duplicate rows"
   ]
  },
  {
   "cell_type": "markdown",
   "id": "cb876b66",
   "metadata": {
    "papermill": {
     "duration": 0.039535,
     "end_time": "2021-10-02T07:29:56.690514",
     "exception": false,
     "start_time": "2021-10-02T07:29:56.650979",
     "status": "completed"
    },
    "tags": []
   },
   "source": [
    "### Summary Statistics"
   ]
  },
  {
   "cell_type": "code",
   "execution_count": 8,
   "id": "4870bb89",
   "metadata": {
    "execution": {
     "iopub.execute_input": "2021-10-02T07:29:56.774205Z",
     "iopub.status.busy": "2021-10-02T07:29:56.773520Z",
     "iopub.status.idle": "2021-10-02T07:29:56.802824Z",
     "shell.execute_reply": "2021-10-02T07:29:56.803366Z",
     "shell.execute_reply.started": "2021-10-02T07:24:29.063178Z"
    },
    "papermill": {
     "duration": 0.073083,
     "end_time": "2021-10-02T07:29:56.803559",
     "exception": false,
     "start_time": "2021-10-02T07:29:56.730476",
     "status": "completed"
    },
    "tags": []
   },
   "outputs": [
    {
     "data": {
      "text/html": [
       "<div>\n",
       "<style scoped>\n",
       "    .dataframe tbody tr th:only-of-type {\n",
       "        vertical-align: middle;\n",
       "    }\n",
       "\n",
       "    .dataframe tbody tr th {\n",
       "        vertical-align: top;\n",
       "    }\n",
       "\n",
       "    .dataframe thead th {\n",
       "        text-align: right;\n",
       "    }\n",
       "</style>\n",
       "<table border=\"1\" class=\"dataframe\">\n",
       "  <thead>\n",
       "    <tr style=\"text-align: right;\">\n",
       "      <th></th>\n",
       "      <th>Survived</th>\n",
       "      <th>Pclass</th>\n",
       "      <th>Age</th>\n",
       "      <th>SibSp</th>\n",
       "      <th>Parch</th>\n",
       "      <th>Fare</th>\n",
       "    </tr>\n",
       "  </thead>\n",
       "  <tbody>\n",
       "    <tr>\n",
       "      <th>count</th>\n",
       "      <td>891.000000</td>\n",
       "      <td>891.000000</td>\n",
       "      <td>714.000000</td>\n",
       "      <td>891.000000</td>\n",
       "      <td>891.000000</td>\n",
       "      <td>891.000000</td>\n",
       "    </tr>\n",
       "    <tr>\n",
       "      <th>mean</th>\n",
       "      <td>0.383838</td>\n",
       "      <td>2.308642</td>\n",
       "      <td>29.699118</td>\n",
       "      <td>0.523008</td>\n",
       "      <td>0.381594</td>\n",
       "      <td>32.204208</td>\n",
       "    </tr>\n",
       "    <tr>\n",
       "      <th>std</th>\n",
       "      <td>0.486592</td>\n",
       "      <td>0.836071</td>\n",
       "      <td>14.526497</td>\n",
       "      <td>1.102743</td>\n",
       "      <td>0.806057</td>\n",
       "      <td>49.693429</td>\n",
       "    </tr>\n",
       "    <tr>\n",
       "      <th>min</th>\n",
       "      <td>0.000000</td>\n",
       "      <td>1.000000</td>\n",
       "      <td>0.420000</td>\n",
       "      <td>0.000000</td>\n",
       "      <td>0.000000</td>\n",
       "      <td>0.000000</td>\n",
       "    </tr>\n",
       "    <tr>\n",
       "      <th>25%</th>\n",
       "      <td>0.000000</td>\n",
       "      <td>2.000000</td>\n",
       "      <td>20.125000</td>\n",
       "      <td>0.000000</td>\n",
       "      <td>0.000000</td>\n",
       "      <td>7.910400</td>\n",
       "    </tr>\n",
       "    <tr>\n",
       "      <th>50%</th>\n",
       "      <td>0.000000</td>\n",
       "      <td>3.000000</td>\n",
       "      <td>28.000000</td>\n",
       "      <td>0.000000</td>\n",
       "      <td>0.000000</td>\n",
       "      <td>14.454200</td>\n",
       "    </tr>\n",
       "    <tr>\n",
       "      <th>75%</th>\n",
       "      <td>1.000000</td>\n",
       "      <td>3.000000</td>\n",
       "      <td>38.000000</td>\n",
       "      <td>1.000000</td>\n",
       "      <td>0.000000</td>\n",
       "      <td>31.000000</td>\n",
       "    </tr>\n",
       "    <tr>\n",
       "      <th>max</th>\n",
       "      <td>1.000000</td>\n",
       "      <td>3.000000</td>\n",
       "      <td>80.000000</td>\n",
       "      <td>8.000000</td>\n",
       "      <td>6.000000</td>\n",
       "      <td>512.329200</td>\n",
       "    </tr>\n",
       "  </tbody>\n",
       "</table>\n",
       "</div>"
      ],
      "text/plain": [
       "         Survived      Pclass         Age       SibSp       Parch        Fare\n",
       "count  891.000000  891.000000  714.000000  891.000000  891.000000  891.000000\n",
       "mean     0.383838    2.308642   29.699118    0.523008    0.381594   32.204208\n",
       "std      0.486592    0.836071   14.526497    1.102743    0.806057   49.693429\n",
       "min      0.000000    1.000000    0.420000    0.000000    0.000000    0.000000\n",
       "25%      0.000000    2.000000   20.125000    0.000000    0.000000    7.910400\n",
       "50%      0.000000    3.000000   28.000000    0.000000    0.000000   14.454200\n",
       "75%      1.000000    3.000000   38.000000    1.000000    0.000000   31.000000\n",
       "max      1.000000    3.000000   80.000000    8.000000    6.000000  512.329200"
      ]
     },
     "execution_count": 8,
     "metadata": {},
     "output_type": "execute_result"
    }
   ],
   "source": [
    "train_df.describe()"
   ]
  },
  {
   "cell_type": "markdown",
   "id": "cc9017ad",
   "metadata": {
    "papermill": {
     "duration": 0.040884,
     "end_time": "2021-10-02T07:29:56.885980",
     "exception": false,
     "start_time": "2021-10-02T07:29:56.845096",
     "status": "completed"
    },
    "tags": []
   },
   "source": [
    "* Natably large differnece in 75th %tile and max values of predictors 'Fare', 'Age'."
   ]
  },
  {
   "cell_type": "markdown",
   "id": "f5c6be52",
   "metadata": {
    "papermill": {
     "duration": 0.039947,
     "end_time": "2021-10-02T07:29:56.966477",
     "exception": false,
     "start_time": "2021-10-02T07:29:56.926530",
     "status": "completed"
    },
    "tags": []
   },
   "source": [
    "### Understanding Target variable"
   ]
  },
  {
   "cell_type": "code",
   "execution_count": 9,
   "id": "f6d66bda",
   "metadata": {
    "execution": {
     "iopub.execute_input": "2021-10-02T07:29:57.053438Z",
     "iopub.status.busy": "2021-10-02T07:29:57.050340Z",
     "iopub.status.idle": "2021-10-02T07:29:57.058105Z",
     "shell.execute_reply": "2021-10-02T07:29:57.057454Z",
     "shell.execute_reply.started": "2021-10-02T07:24:29.099479Z"
    },
    "papermill": {
     "duration": 0.051291,
     "end_time": "2021-10-02T07:29:57.058246",
     "exception": false,
     "start_time": "2021-10-02T07:29:57.006955",
     "status": "completed"
    },
    "tags": []
   },
   "outputs": [
    {
     "data": {
      "text/plain": [
       "array([0, 1])"
      ]
     },
     "execution_count": 9,
     "metadata": {},
     "output_type": "execute_result"
    }
   ],
   "source": [
    "train_df.Survived.unique()"
   ]
  },
  {
   "cell_type": "code",
   "execution_count": 10,
   "id": "a0030d35",
   "metadata": {
    "execution": {
     "iopub.execute_input": "2021-10-02T07:29:57.148608Z",
     "iopub.status.busy": "2021-10-02T07:29:57.147924Z",
     "iopub.status.idle": "2021-10-02T07:29:57.150385Z",
     "shell.execute_reply": "2021-10-02T07:29:57.150986Z",
     "shell.execute_reply.started": "2021-10-02T07:24:29.108806Z"
    },
    "papermill": {
     "duration": 0.051547,
     "end_time": "2021-10-02T07:29:57.151152",
     "exception": false,
     "start_time": "2021-10-02T07:29:57.099605",
     "status": "completed"
    },
    "tags": []
   },
   "outputs": [
    {
     "data": {
      "text/plain": [
       "0    549\n",
       "1    342\n",
       "Name: Survived, dtype: int64"
      ]
     },
     "execution_count": 10,
     "metadata": {},
     "output_type": "execute_result"
    }
   ],
   "source": [
    "train_df.Survived.value_counts()"
   ]
  },
  {
   "cell_type": "markdown",
   "id": "bcc23d1f",
   "metadata": {
    "papermill": {
     "duration": 0.040704,
     "end_time": "2021-10-02T07:29:57.232760",
     "exception": false,
     "start_time": "2021-10-02T07:29:57.192056",
     "status": "completed"
    },
    "tags": []
   },
   "source": [
    "# Data Visualization"
   ]
  },
  {
   "cell_type": "code",
   "execution_count": 11,
   "id": "0cd0e0f7",
   "metadata": {
    "execution": {
     "iopub.execute_input": "2021-10-02T07:29:57.318643Z",
     "iopub.status.busy": "2021-10-02T07:29:57.318001Z",
     "iopub.status.idle": "2021-10-02T07:29:57.843297Z",
     "shell.execute_reply": "2021-10-02T07:29:57.843825Z",
     "shell.execute_reply.started": "2021-10-02T07:24:29.123393Z"
    },
    "papermill": {
     "duration": 0.570391,
     "end_time": "2021-10-02T07:29:57.844018",
     "exception": false,
     "start_time": "2021-10-02T07:29:57.273627",
     "status": "completed"
    },
    "tags": []
   },
   "outputs": [
    {
     "data": {
      "image/png": "[encoded data removed]",
      "text/plain": [
       "<Figure size 864x360 with 2 Axes>"
      ]
     },
     "metadata": {
      "needs_background": "light"
     },
     "output_type": "display_data"
    }
   ],
   "source": [
    "fig, ax = plt.subplots(1, 2, figsize=(12,5))\n",
    "train_df[\"Sex\"].value_counts().plot(kind='bar',\n",
    "                                    title= \"Gender count in the training data\",\n",
    "                                    xlabel= 'Sex',\n",
    "                                    ylabel= 'Count',\n",
    "                                    ax=ax[0])\n",
    "\n",
    "ax[1].set_title(\"Number of survivors per gender\")\n",
    "sns.countplot(data=train_df, \n",
    "              x=\"Sex\",\n",
    "              hue=\"Survived\",\n",
    "              ax=ax[1])\n",
    "\n",
    "plt.show()"
   ]
  },
  {
   "cell_type": "markdown",
   "id": "afda6935",
   "metadata": {
    "papermill": {
     "duration": 0.042616,
     "end_time": "2021-10-02T07:29:57.931002",
     "exception": false,
     "start_time": "2021-10-02T07:29:57.888386",
     "status": "completed"
    },
    "tags": []
   },
   "source": [
    "* Males are more than females in the dataset\n",
    "* Females survived more than males"
   ]
  },
  {
   "cell_type": "markdown",
   "id": "7a443eb0",
   "metadata": {
    "papermill": {
     "duration": 0.042994,
     "end_time": "2021-10-02T07:29:58.017700",
     "exception": false,
     "start_time": "2021-10-02T07:29:57.974706",
     "status": "completed"
    },
    "tags": []
   },
   "source": [
    "### To check Outliers"
   ]
  },
  {
   "cell_type": "code",
   "execution_count": 12,
   "id": "1f407b1b",
   "metadata": {
    "execution": {
     "iopub.execute_input": "2021-10-02T07:29:58.107072Z",
     "iopub.status.busy": "2021-10-02T07:29:58.106410Z",
     "iopub.status.idle": "2021-10-02T07:29:58.289877Z",
     "shell.execute_reply": "2021-10-02T07:29:58.289036Z",
     "shell.execute_reply.started": "2021-10-02T07:24:29.409112Z"
    },
    "papermill": {
     "duration": 0.229896,
     "end_time": "2021-10-02T07:29:58.290035",
     "exception": false,
     "start_time": "2021-10-02T07:29:58.060139",
     "status": "completed"
    },
    "tags": []
   },
   "outputs": [
    {
     "data": {
      "text/plain": [
       "<AxesSubplot:xlabel='Fare'>"
      ]
     },
     "execution_count": 12,
     "metadata": {},
     "output_type": "execute_result"
    },
    {
     "data": {
      "image/png": "[encoded data removed]",
      "text/plain": [
       "<Figure size 432x288 with 1 Axes>"
      ]
     },
     "metadata": {
      "needs_background": "light"
     },
     "output_type": "display_data"
    }
   ],
   "source": [
    "sns.boxplot(x=train_df['Fare'])"
   ]
  },
  {
   "cell_type": "code",
   "execution_count": 13,
   "id": "151f5e8d",
   "metadata": {
    "execution": {
     "iopub.execute_input": "2021-10-02T07:29:58.382032Z",
     "iopub.status.busy": "2021-10-02T07:29:58.381052Z",
     "iopub.status.idle": "2021-10-02T07:29:58.531055Z",
     "shell.execute_reply": "2021-10-02T07:29:58.530448Z",
     "shell.execute_reply.started": "2021-10-02T07:24:29.683699Z"
    },
    "papermill": {
     "duration": 0.197877,
     "end_time": "2021-10-02T07:29:58.531220",
     "exception": false,
     "start_time": "2021-10-02T07:29:58.333343",
     "status": "completed"
    },
    "tags": []
   },
   "outputs": [
    {
     "data": {
      "text/plain": [
       "<AxesSubplot:xlabel='Age'>"
      ]
     },
     "execution_count": 13,
     "metadata": {},
     "output_type": "execute_result"
    },
    {
     "data": {
      "image/png": "[encoded data removed]",
      "text/plain": [
       "<Figure size 432x288 with 1 Axes>"
      ]
     },
     "metadata": {
      "needs_background": "light"
     },
     "output_type": "display_data"
    }
   ],
   "source": [
    "sns.boxplot(x=train_df['Age'])"
   ]
  },
  {
   "cell_type": "code",
   "execution_count": 14,
   "id": "84b562bf",
   "metadata": {
    "execution": {
     "iopub.execute_input": "2021-10-02T07:29:58.638376Z",
     "iopub.status.busy": "2021-10-02T07:29:58.632255Z",
     "iopub.status.idle": "2021-10-02T07:29:59.449012Z",
     "shell.execute_reply": "2021-10-02T07:29:59.448464Z",
     "shell.execute_reply.started": "2021-10-02T07:24:29.834086Z"
    },
    "papermill": {
     "duration": 0.873379,
     "end_time": "2021-10-02T07:29:59.449169",
     "exception": false,
     "start_time": "2021-10-02T07:29:58.575790",
     "status": "completed"
    },
    "tags": []
   },
   "outputs": [
    {
     "data": {
      "image/png": "[encoded data removed]",
      "text/plain": [
       "<Figure size 771.875x360 with 2 Axes>"
      ]
     },
     "metadata": {
      "needs_background": "light"
     },
     "output_type": "display_data"
    }
   ],
   "source": [
    "sns.displot(data=train_df,\n",
    "            x=\"Age\",\n",
    "            col=\"Sex\",\n",
    "            hue=\"Survived\");"
   ]
  },
  {
   "cell_type": "markdown",
   "id": "182056f2",
   "metadata": {
    "papermill": {
     "duration": 0.044101,
     "end_time": "2021-10-02T07:29:59.538295",
     "exception": false,
     "start_time": "2021-10-02T07:29:59.494194",
     "status": "completed"
    },
    "tags": []
   },
   "source": [
    "### To check correlation"
   ]
  },
  {
   "cell_type": "code",
   "execution_count": 15,
   "id": "42b3d8d5",
   "metadata": {
    "execution": {
     "iopub.execute_input": "2021-10-02T07:29:59.636098Z",
     "iopub.status.busy": "2021-10-02T07:29:59.635438Z",
     "iopub.status.idle": "2021-10-02T07:30:00.136665Z",
     "shell.execute_reply": "2021-10-02T07:30:00.137117Z",
     "shell.execute_reply.started": "2021-10-02T07:24:30.640968Z"
    },
    "papermill": {
     "duration": 0.554235,
     "end_time": "2021-10-02T07:30:00.137287",
     "exception": false,
     "start_time": "2021-10-02T07:29:59.583052",
     "status": "completed"
    },
    "tags": []
   },
   "outputs": [
    {
     "data": {
      "text/html": [
       "<div>\n",
       "<style scoped>\n",
       "    .dataframe tbody tr th:only-of-type {\n",
       "        vertical-align: middle;\n",
       "    }\n",
       "\n",
       "    .dataframe tbody tr th {\n",
       "        vertical-align: top;\n",
       "    }\n",
       "\n",
       "    .dataframe thead th {\n",
       "        text-align: right;\n",
       "    }\n",
       "</style>\n",
       "<table border=\"1\" class=\"dataframe\">\n",
       "  <thead>\n",
       "    <tr style=\"text-align: right;\">\n",
       "      <th></th>\n",
       "      <th>Survived</th>\n",
       "      <th>Pclass</th>\n",
       "      <th>Age</th>\n",
       "      <th>SibSp</th>\n",
       "      <th>Parch</th>\n",
       "      <th>Fare</th>\n",
       "    </tr>\n",
       "  </thead>\n",
       "  <tbody>\n",
       "    <tr>\n",
       "      <th>Survived</th>\n",
       "      <td>1.000000</td>\n",
       "      <td>-0.338481</td>\n",
       "      <td>-0.077221</td>\n",
       "      <td>-0.035322</td>\n",
       "      <td>0.081629</td>\n",
       "      <td>0.257307</td>\n",
       "    </tr>\n",
       "    <tr>\n",
       "      <th>Pclass</th>\n",
       "      <td>-0.338481</td>\n",
       "      <td>1.000000</td>\n",
       "      <td>-0.369226</td>\n",
       "      <td>0.083081</td>\n",
       "      <td>0.018443</td>\n",
       "      <td>-0.549500</td>\n",
       "    </tr>\n",
       "    <tr>\n",
       "      <th>Age</th>\n",
       "      <td>-0.077221</td>\n",
       "      <td>-0.369226</td>\n",
       "      <td>1.000000</td>\n",
       "      <td>-0.308247</td>\n",
       "      <td>-0.189119</td>\n",
       "      <td>0.096067</td>\n",
       "    </tr>\n",
       "    <tr>\n",
       "      <th>SibSp</th>\n",
       "      <td>-0.035322</td>\n",
       "      <td>0.083081</td>\n",
       "      <td>-0.308247</td>\n",
       "      <td>1.000000</td>\n",
       "      <td>0.414838</td>\n",
       "      <td>0.159651</td>\n",
       "    </tr>\n",
       "    <tr>\n",
       "      <th>Parch</th>\n",
       "      <td>0.081629</td>\n",
       "      <td>0.018443</td>\n",
       "      <td>-0.189119</td>\n",
       "      <td>0.414838</td>\n",
       "      <td>1.000000</td>\n",
       "      <td>0.216225</td>\n",
       "    </tr>\n",
       "    <tr>\n",
       "      <th>Fare</th>\n",
       "      <td>0.257307</td>\n",
       "      <td>-0.549500</td>\n",
       "      <td>0.096067</td>\n",
       "      <td>0.159651</td>\n",
       "      <td>0.216225</td>\n",
       "      <td>1.000000</td>\n",
       "    </tr>\n",
       "  </tbody>\n",
       "</table>\n",
       "</div>"
      ],
      "text/plain": [
       "          Survived    Pclass       Age     SibSp     Parch      Fare\n",
       "Survived  1.000000 -0.338481 -0.077221 -0.035322  0.081629  0.257307\n",
       "Pclass   -0.338481  1.000000 -0.369226  0.083081  0.018443 -0.549500\n",
       "Age      -0.077221 -0.369226  1.000000 -0.308247 -0.189119  0.096067\n",
       "SibSp    -0.035322  0.083081 -0.308247  1.000000  0.414838  0.159651\n",
       "Parch     0.081629  0.018443 -0.189119  0.414838  1.000000  0.216225\n",
       "Fare      0.257307 -0.549500  0.096067  0.159651  0.216225  1.000000"
      ]
     },
     "execution_count": 15,
     "metadata": {},
     "output_type": "execute_result"
    },
    {
     "data": {
      "image/png": "[encoded data removed]",
      "text/plain": [
       "<Figure size 1440x720 with 2 Axes>"
      ]
     },
     "metadata": {
      "needs_background": "light"
     },
     "output_type": "display_data"
    }
   ],
   "source": [
    "plt.figure(figsize=(20,10))\n",
    "c= train_df.corr()\n",
    "sns.heatmap(c,cmap='BrBG',annot=True)\n",
    "c"
   ]
  },
  {
   "cell_type": "markdown",
   "id": "92274c2a",
   "metadata": {
    "papermill": {
     "duration": 0.046011,
     "end_time": "2021-10-02T07:30:00.230181",
     "exception": false,
     "start_time": "2021-10-02T07:30:00.184170",
     "status": "completed"
    },
    "tags": []
   },
   "source": [
    "# Clean Data"
   ]
  },
  {
   "cell_type": "markdown",
   "id": "768deff5",
   "metadata": {
    "papermill": {
     "duration": 0.045802,
     "end_time": "2021-10-02T07:30:00.322247",
     "exception": false,
     "start_time": "2021-10-02T07:30:00.276445",
     "status": "completed"
    },
    "tags": []
   },
   "source": [
    "* convert labels from object to their correct type."
   ]
  },
  {
   "cell_type": "code",
   "execution_count": 16,
   "id": "b2f43c76",
   "metadata": {
    "execution": {
     "iopub.execute_input": "2021-10-02T07:30:00.419301Z",
     "iopub.status.busy": "2021-10-02T07:30:00.418635Z",
     "iopub.status.idle": "2021-10-02T07:30:00.420727Z",
     "shell.execute_reply": "2021-10-02T07:30:00.421218Z",
     "shell.execute_reply.started": "2021-10-02T07:24:31.088182Z"
    },
    "papermill": {
     "duration": 0.052932,
     "end_time": "2021-10-02T07:30:00.421378",
     "exception": false,
     "start_time": "2021-10-02T07:30:00.368446",
     "status": "completed"
    },
    "tags": []
   },
   "outputs": [],
   "source": [
    "type_category=['Sex', 'Cabin', 'Embarked', 'Ticket']"
   ]
  },
  {
   "cell_type": "code",
   "execution_count": 17,
   "id": "04713b6f",
   "metadata": {
    "execution": {
     "iopub.execute_input": "2021-10-02T07:30:00.520029Z",
     "iopub.status.busy": "2021-10-02T07:30:00.517762Z",
     "iopub.status.idle": "2021-10-02T07:30:00.535443Z",
     "shell.execute_reply": "2021-10-02T07:30:00.534690Z",
     "shell.execute_reply.started": "2021-10-02T07:24:31.094927Z"
    },
    "papermill": {
     "duration": 0.067824,
     "end_time": "2021-10-02T07:30:00.535619",
     "exception": false,
     "start_time": "2021-10-02T07:30:00.467795",
     "status": "completed"
    },
    "tags": []
   },
   "outputs": [],
   "source": [
    "for df in [train_df, test_df]:\n",
    "    for i in type_category:\n",
    "        df[i]=df[i].astype(\"category\")\n",
    "    df['Name']=df['Name'].astype(\"string\")"
   ]
  },
  {
   "cell_type": "code",
   "execution_count": 18,
   "id": "8881a0f0",
   "metadata": {
    "execution": {
     "iopub.execute_input": "2021-10-02T07:30:00.639541Z",
     "iopub.status.busy": "2021-10-02T07:30:00.638696Z",
     "iopub.status.idle": "2021-10-02T07:30:00.642677Z",
     "shell.execute_reply": "2021-10-02T07:30:00.642154Z",
     "shell.execute_reply.started": "2021-10-02T07:24:31.143089Z"
    },
    "papermill": {
     "duration": 0.059688,
     "end_time": "2021-10-02T07:30:00.642843",
     "exception": false,
     "start_time": "2021-10-02T07:30:00.583155",
     "status": "completed"
    },
    "tags": []
   },
   "outputs": [
    {
     "data": {
      "text/plain": [
       "Survived       int64\n",
       "Pclass         int64\n",
       "Name          string\n",
       "Sex         category\n",
       "Age          float64\n",
       "SibSp          int64\n",
       "Parch          int64\n",
       "Ticket      category\n",
       "Fare         float64\n",
       "Cabin       category\n",
       "Embarked    category\n",
       "dtype: object"
      ]
     },
     "execution_count": 18,
     "metadata": {},
     "output_type": "execute_result"
    }
   ],
   "source": [
    "train_df.dtypes"
   ]
  },
  {
   "cell_type": "code",
   "execution_count": null,
   "id": "dc1eb5b6",
   "metadata": {
    "papermill": {
     "duration": 0.047017,
     "end_time": "2021-10-02T07:30:00.737325",
     "exception": false,
     "start_time": "2021-10-02T07:30:00.690308",
     "status": "completed"
    },
    "tags": []
   },
   "outputs": [],
   "source": []
  },
  {
   "cell_type": "markdown",
   "id": "bd0aaf13",
   "metadata": {
    "papermill": {
     "duration": 0.046696,
     "end_time": "2021-10-02T07:30:00.831576",
     "exception": false,
     "start_time": "2021-10-02T07:30:00.784880",
     "status": "completed"
    },
    "tags": []
   },
   "source": [
    "### Fill null values"
   ]
  },
  {
   "cell_type": "markdown",
   "id": "68bab547",
   "metadata": {
    "papermill": {
     "duration": 0.046801,
     "end_time": "2021-10-02T07:30:00.926835",
     "exception": false,
     "start_time": "2021-10-02T07:30:00.880034",
     "status": "completed"
    },
    "tags": []
   },
   "source": [
    "* fill missing values for numerical columns with mean"
   ]
  },
  {
   "cell_type": "code",
   "execution_count": 19,
   "id": "61e9f06d",
   "metadata": {
    "execution": {
     "iopub.execute_input": "2021-10-02T07:30:01.030206Z",
     "iopub.status.busy": "2021-10-02T07:30:01.029156Z",
     "iopub.status.idle": "2021-10-02T07:30:01.033802Z",
     "shell.execute_reply": "2021-10-02T07:30:01.034248Z",
     "shell.execute_reply.started": "2021-10-02T07:24:31.160671Z"
    },
    "papermill": {
     "duration": 0.059017,
     "end_time": "2021-10-02T07:30:01.034440",
     "exception": false,
     "start_time": "2021-10-02T07:30:00.975423",
     "status": "completed"
    },
    "tags": []
   },
   "outputs": [],
   "source": [
    "train_df=train_df.fillna(train_df.mean())"
   ]
  },
  {
   "cell_type": "code",
   "execution_count": 20,
   "id": "d61e00f8",
   "metadata": {
    "execution": {
     "iopub.execute_input": "2021-10-02T07:30:01.139291Z",
     "iopub.status.busy": "2021-10-02T07:30:01.134441Z",
     "iopub.status.idle": "2021-10-02T07:30:01.141403Z",
     "shell.execute_reply": "2021-10-02T07:30:01.141943Z",
     "shell.execute_reply.started": "2021-10-02T07:24:31.176713Z"
    },
    "papermill": {
     "duration": 0.059323,
     "end_time": "2021-10-02T07:30:01.142139",
     "exception": false,
     "start_time": "2021-10-02T07:30:01.082816",
     "status": "completed"
    },
    "tags": []
   },
   "outputs": [],
   "source": [
    "test_df=test_df.fillna(test_df.mean())"
   ]
  },
  {
   "cell_type": "markdown",
   "id": "44d2a42d",
   "metadata": {
    "papermill": {
     "duration": 0.046638,
     "end_time": "2021-10-02T07:30:01.235978",
     "exception": false,
     "start_time": "2021-10-02T07:30:01.189340",
     "status": "completed"
    },
    "tags": []
   },
   "source": [
    "* fill missing values for categorical columns (using its own most frequent value)"
   ]
  },
  {
   "cell_type": "code",
   "execution_count": 21,
   "id": "a6ebcc8c",
   "metadata": {
    "execution": {
     "iopub.execute_input": "2021-10-02T07:30:01.341611Z",
     "iopub.status.busy": "2021-10-02T07:30:01.334226Z",
     "iopub.status.idle": "2021-10-02T07:30:01.357468Z",
     "shell.execute_reply": "2021-10-02T07:30:01.357966Z",
     "shell.execute_reply.started": "2021-10-02T07:24:31.194638Z"
    },
    "papermill": {
     "duration": 0.075098,
     "end_time": "2021-10-02T07:30:01.358153",
     "exception": false,
     "start_time": "2021-10-02T07:30:01.283055",
     "status": "completed"
    },
    "tags": []
   },
   "outputs": [],
   "source": [
    "train_df = train_df.fillna(train_df.mode().iloc[0]) "
   ]
  },
  {
   "cell_type": "code",
   "execution_count": 22,
   "id": "8d07eca0",
   "metadata": {
    "execution": {
     "iopub.execute_input": "2021-10-02T07:30:01.474266Z",
     "iopub.status.busy": "2021-10-02T07:30:01.473555Z",
     "iopub.status.idle": "2021-10-02T07:30:01.477195Z",
     "shell.execute_reply": "2021-10-02T07:30:01.476482Z",
     "shell.execute_reply.started": "2021-10-02T07:24:31.225744Z"
    },
    "papermill": {
     "duration": 0.072012,
     "end_time": "2021-10-02T07:30:01.477336",
     "exception": false,
     "start_time": "2021-10-02T07:30:01.405324",
     "status": "completed"
    },
    "tags": []
   },
   "outputs": [],
   "source": [
    "test_df = test_df.fillna(test_df.mode().iloc[0]) "
   ]
  },
  {
   "cell_type": "code",
   "execution_count": 23,
   "id": "c256d64f",
   "metadata": {
    "execution": {
     "iopub.execute_input": "2021-10-02T07:30:01.575977Z",
     "iopub.status.busy": "2021-10-02T07:30:01.575250Z",
     "iopub.status.idle": "2021-10-02T07:30:01.585669Z",
     "shell.execute_reply": "2021-10-02T07:30:01.586199Z",
     "shell.execute_reply.started": "2021-10-02T07:24:31.248162Z"
    },
    "papermill": {
     "duration": 0.061655,
     "end_time": "2021-10-02T07:30:01.586364",
     "exception": false,
     "start_time": "2021-10-02T07:30:01.524709",
     "status": "completed"
    },
    "tags": []
   },
   "outputs": [
    {
     "data": {
      "text/plain": [
       "Survived    0.0\n",
       "Pclass      0.0\n",
       "Name        0.0\n",
       "Sex         0.0\n",
       "Age         0.0\n",
       "SibSp       0.0\n",
       "Parch       0.0\n",
       "Ticket      0.0\n",
       "Fare        0.0\n",
       "Cabin       0.0\n",
       "Embarked    0.0\n",
       "dtype: float64"
      ]
     },
     "execution_count": 23,
     "metadata": {},
     "output_type": "execute_result"
    }
   ],
   "source": [
    "round(train_df.isnull().sum(axis=0)*100/train_df.shape[0],2)"
   ]
  },
  {
   "cell_type": "markdown",
   "id": "4024e515",
   "metadata": {
    "papermill": {
     "duration": 0.047,
     "end_time": "2021-10-02T07:30:01.681187",
     "exception": false,
     "start_time": "2021-10-02T07:30:01.634187",
     "status": "completed"
    },
    "tags": []
   },
   "source": [
    "# Preprocessing:"
   ]
  },
  {
   "cell_type": "markdown",
   "id": "44a1ab4e",
   "metadata": {
    "papermill": {
     "duration": 0.047252,
     "end_time": "2021-10-02T07:30:01.775575",
     "exception": false,
     "start_time": "2021-10-02T07:30:01.728323",
     "status": "completed"
    },
    "tags": []
   },
   "source": [
    "### Encode \"Sex\" and \"Embarked\" features"
   ]
  },
  {
   "cell_type": "code",
   "execution_count": 24,
   "id": "36c13779",
   "metadata": {
    "execution": {
     "iopub.execute_input": "2021-10-02T07:30:01.899348Z",
     "iopub.status.busy": "2021-10-02T07:30:01.876374Z",
     "iopub.status.idle": "2021-10-02T07:30:01.904406Z",
     "shell.execute_reply": "2021-10-02T07:30:01.903851Z",
     "shell.execute_reply.started": "2021-10-02T07:24:31.262375Z"
    },
    "papermill": {
     "duration": 0.080268,
     "end_time": "2021-10-02T07:30:01.904556",
     "exception": false,
     "start_time": "2021-10-02T07:30:01.824288",
     "status": "completed"
    },
    "tags": []
   },
   "outputs": [
    {
     "data": {
      "text/html": [
       "<div>\n",
       "<style scoped>\n",
       "    .dataframe tbody tr th:only-of-type {\n",
       "        vertical-align: middle;\n",
       "    }\n",
       "\n",
       "    .dataframe tbody tr th {\n",
       "        vertical-align: top;\n",
       "    }\n",
       "\n",
       "    .dataframe thead th {\n",
       "        text-align: right;\n",
       "    }\n",
       "</style>\n",
       "<table border=\"1\" class=\"dataframe\">\n",
       "  <thead>\n",
       "    <tr style=\"text-align: right;\">\n",
       "      <th></th>\n",
       "      <th>Survived</th>\n",
       "      <th>Pclass</th>\n",
       "      <th>Name</th>\n",
       "      <th>Sex</th>\n",
       "      <th>Age</th>\n",
       "      <th>SibSp</th>\n",
       "      <th>Parch</th>\n",
       "      <th>Ticket</th>\n",
       "      <th>Fare</th>\n",
       "      <th>Cabin</th>\n",
       "      <th>Embarked</th>\n",
       "    </tr>\n",
       "    <tr>\n",
       "      <th>PassengerId</th>\n",
       "      <th></th>\n",
       "      <th></th>\n",
       "      <th></th>\n",
       "      <th></th>\n",
       "      <th></th>\n",
       "      <th></th>\n",
       "      <th></th>\n",
       "      <th></th>\n",
       "      <th></th>\n",
       "      <th></th>\n",
       "      <th></th>\n",
       "    </tr>\n",
       "  </thead>\n",
       "  <tbody>\n",
       "    <tr>\n",
       "      <th>1</th>\n",
       "      <td>0</td>\n",
       "      <td>3</td>\n",
       "      <td>Braund, Mr. Owen Harris</td>\n",
       "      <td>1</td>\n",
       "      <td>22.0</td>\n",
       "      <td>1</td>\n",
       "      <td>0</td>\n",
       "      <td>A/5 21171</td>\n",
       "      <td>7.2500</td>\n",
       "      <td>B96 B98</td>\n",
       "      <td>2</td>\n",
       "    </tr>\n",
       "    <tr>\n",
       "      <th>2</th>\n",
       "      <td>1</td>\n",
       "      <td>1</td>\n",
       "      <td>Cumings, Mrs. John Bradley (Florence Briggs Th...</td>\n",
       "      <td>0</td>\n",
       "      <td>38.0</td>\n",
       "      <td>1</td>\n",
       "      <td>0</td>\n",
       "      <td>PC 17599</td>\n",
       "      <td>71.2833</td>\n",
       "      <td>C85</td>\n",
       "      <td>1</td>\n",
       "    </tr>\n",
       "    <tr>\n",
       "      <th>3</th>\n",
       "      <td>1</td>\n",
       "      <td>3</td>\n",
       "      <td>Heikkinen, Miss. Laina</td>\n",
       "      <td>0</td>\n",
       "      <td>26.0</td>\n",
       "      <td>0</td>\n",
       "      <td>0</td>\n",
       "      <td>STON/O2. 3101282</td>\n",
       "      <td>7.9250</td>\n",
       "      <td>B96 B98</td>\n",
       "      <td>2</td>\n",
       "    </tr>\n",
       "    <tr>\n",
       "      <th>4</th>\n",
       "      <td>1</td>\n",
       "      <td>1</td>\n",
       "      <td>Futrelle, Mrs. Jacques Heath (Lily May Peel)</td>\n",
       "      <td>0</td>\n",
       "      <td>35.0</td>\n",
       "      <td>1</td>\n",
       "      <td>0</td>\n",
       "      <td>113803</td>\n",
       "      <td>53.1000</td>\n",
       "      <td>C123</td>\n",
       "      <td>2</td>\n",
       "    </tr>\n",
       "    <tr>\n",
       "      <th>5</th>\n",
       "      <td>0</td>\n",
       "      <td>3</td>\n",
       "      <td>Allen, Mr. William Henry</td>\n",
       "      <td>1</td>\n",
       "      <td>35.0</td>\n",
       "      <td>0</td>\n",
       "      <td>0</td>\n",
       "      <td>373450</td>\n",
       "      <td>8.0500</td>\n",
       "      <td>B96 B98</td>\n",
       "      <td>2</td>\n",
       "    </tr>\n",
       "  </tbody>\n",
       "</table>\n",
       "</div>"
      ],
      "text/plain": [
       "             Survived  Pclass  \\\n",
       "PassengerId                     \n",
       "1                   0       3   \n",
       "2                   1       1   \n",
       "3                   1       3   \n",
       "4                   1       1   \n",
       "5                   0       3   \n",
       "\n",
       "                                                          Name Sex   Age  \\\n",
       "PassengerId                                                                \n",
       "1                                      Braund, Mr. Owen Harris   1  22.0   \n",
       "2            Cumings, Mrs. John Bradley (Florence Briggs Th...   0  38.0   \n",
       "3                                       Heikkinen, Miss. Laina   0  26.0   \n",
       "4                 Futrelle, Mrs. Jacques Heath (Lily May Peel)   0  35.0   \n",
       "5                                     Allen, Mr. William Henry   1  35.0   \n",
       "\n",
       "             SibSp  Parch            Ticket     Fare    Cabin Embarked  \n",
       "PassengerId                                                             \n",
       "1                1      0         A/5 21171   7.2500  B96 B98        2  \n",
       "2                1      0          PC 17599  71.2833      C85        1  \n",
       "3                0      0  STON/O2. 3101282   7.9250  B96 B98        2  \n",
       "4                1      0            113803  53.1000     C123        2  \n",
       "5                0      0            373450   8.0500  B96 B98        2  "
      ]
     },
     "execution_count": 24,
     "metadata": {},
     "output_type": "execute_result"
    }
   ],
   "source": [
    "for df in [train_df, test_df]:\n",
    "    df[\"Sex\"] = df[\"Sex\"].map({\"male\":1, \"female\":0, 1:1, 0:0})\n",
    "    df[\"Embarked\"] = df[\"Embarked\"].map({\"Q\":0, \"C\":1 ,\"S\":2 ,2:2 ,1:1, 0:0})\n",
    "    \n",
    "train_df.head()"
   ]
  },
  {
   "cell_type": "markdown",
   "id": "2ab2bf65",
   "metadata": {
    "papermill": {
     "duration": 0.049711,
     "end_time": "2021-10-02T07:30:02.002781",
     "exception": false,
     "start_time": "2021-10-02T07:30:01.953070",
     "status": "completed"
    },
    "tags": []
   },
   "source": [
    "### Split training data into training and validation sets"
   ]
  },
  {
   "cell_type": "code",
   "execution_count": 25,
   "id": "bb97b8e3",
   "metadata": {
    "execution": {
     "iopub.execute_input": "2021-10-02T07:30:02.107283Z",
     "iopub.status.busy": "2021-10-02T07:30:02.106466Z",
     "iopub.status.idle": "2021-10-02T07:30:02.129735Z",
     "shell.execute_reply": "2021-10-02T07:30:02.130198Z",
     "shell.execute_reply.started": "2021-10-02T07:24:57.522224Z"
    },
    "papermill": {
     "duration": 0.076517,
     "end_time": "2021-10-02T07:30:02.130396",
     "exception": false,
     "start_time": "2021-10-02T07:30:02.053879",
     "status": "completed"
    },
    "tags": []
   },
   "outputs": [
    {
     "data": {
      "text/html": [
       "<div>\n",
       "<style scoped>\n",
       "    .dataframe tbody tr th:only-of-type {\n",
       "        vertical-align: middle;\n",
       "    }\n",
       "\n",
       "    .dataframe tbody tr th {\n",
       "        vertical-align: top;\n",
       "    }\n",
       "\n",
       "    .dataframe thead th {\n",
       "        text-align: right;\n",
       "    }\n",
       "</style>\n",
       "<table border=\"1\" class=\"dataframe\">\n",
       "  <thead>\n",
       "    <tr style=\"text-align: right;\">\n",
       "      <th></th>\n",
       "      <th>Pclass</th>\n",
       "      <th>Sex</th>\n",
       "      <th>Age</th>\n",
       "      <th>SibSp</th>\n",
       "      <th>Parch</th>\n",
       "      <th>Fare</th>\n",
       "      <th>Embarked</th>\n",
       "    </tr>\n",
       "    <tr>\n",
       "      <th>PassengerId</th>\n",
       "      <th></th>\n",
       "      <th></th>\n",
       "      <th></th>\n",
       "      <th></th>\n",
       "      <th></th>\n",
       "      <th></th>\n",
       "      <th></th>\n",
       "    </tr>\n",
       "  </thead>\n",
       "  <tbody>\n",
       "    <tr>\n",
       "      <th>891</th>\n",
       "      <td>3</td>\n",
       "      <td>1</td>\n",
       "      <td>32.0</td>\n",
       "      <td>0</td>\n",
       "      <td>0</td>\n",
       "      <td>7.7500</td>\n",
       "      <td>0</td>\n",
       "    </tr>\n",
       "    <tr>\n",
       "      <th>474</th>\n",
       "      <td>2</td>\n",
       "      <td>0</td>\n",
       "      <td>23.0</td>\n",
       "      <td>0</td>\n",
       "      <td>0</td>\n",
       "      <td>13.7917</td>\n",
       "      <td>1</td>\n",
       "    </tr>\n",
       "    <tr>\n",
       "      <th>837</th>\n",
       "      <td>3</td>\n",
       "      <td>1</td>\n",
       "      <td>21.0</td>\n",
       "      <td>0</td>\n",
       "      <td>0</td>\n",
       "      <td>8.6625</td>\n",
       "      <td>2</td>\n",
       "    </tr>\n",
       "    <tr>\n",
       "      <th>330</th>\n",
       "      <td>1</td>\n",
       "      <td>0</td>\n",
       "      <td>16.0</td>\n",
       "      <td>0</td>\n",
       "      <td>1</td>\n",
       "      <td>57.9792</td>\n",
       "      <td>1</td>\n",
       "    </tr>\n",
       "    <tr>\n",
       "      <th>738</th>\n",
       "      <td>1</td>\n",
       "      <td>1</td>\n",
       "      <td>35.0</td>\n",
       "      <td>0</td>\n",
       "      <td>0</td>\n",
       "      <td>512.3292</td>\n",
       "      <td>1</td>\n",
       "    </tr>\n",
       "  </tbody>\n",
       "</table>\n",
       "</div>"
      ],
      "text/plain": [
       "             Pclass Sex   Age  SibSp  Parch      Fare Embarked\n",
       "PassengerId                                                   \n",
       "891               3   1  32.0      0      0    7.7500        0\n",
       "474               2   0  23.0      0      0   13.7917        1\n",
       "837               3   1  21.0      0      0    8.6625        2\n",
       "330               1   0  16.0      0      1   57.9792        1\n",
       "738               1   1  35.0      0      0  512.3292        1"
      ]
     },
     "execution_count": 25,
     "metadata": {},
     "output_type": "execute_result"
    }
   ],
   "source": [
    "selected_features=[\"Pclass\", \"Sex\", \"Age\", \"SibSp\", \"Parch\",\"Fare\", 'Embarked']\n",
    "\n",
    "X_train, X_val, y_train, y_val = train_test_split(train_df[selected_features],\n",
    "                                                  train_df[\"Survived\"],\n",
    "                                                  test_size = 0.1,\n",
    "                                                  stratify = train_df[\"Survived\"],\n",
    "                                                  random_state=0)\n",
    "\n",
    "X_test = test_df[selected_features]\n",
    "\n",
    "X_train.head()"
   ]
  },
  {
   "cell_type": "markdown",
   "id": "87d11b25",
   "metadata": {
    "papermill": {
     "duration": 0.048775,
     "end_time": "2021-10-02T07:30:02.227844",
     "exception": false,
     "start_time": "2021-10-02T07:30:02.179069",
     "status": "completed"
    },
    "tags": []
   },
   "source": [
    "### Normalize \"Age\" and \"Fare\" features"
   ]
  },
  {
   "cell_type": "code",
   "execution_count": 26,
   "id": "ab109454",
   "metadata": {
    "execution": {
     "iopub.execute_input": "2021-10-02T07:30:02.330480Z",
     "iopub.status.busy": "2021-10-02T07:30:02.329453Z",
     "iopub.status.idle": "2021-10-02T07:30:02.366258Z",
     "shell.execute_reply": "2021-10-02T07:30:02.366903Z",
     "shell.execute_reply.started": "2021-10-02T07:25:01.642338Z"
    },
    "papermill": {
     "duration": 0.090115,
     "end_time": "2021-10-02T07:30:02.367102",
     "exception": false,
     "start_time": "2021-10-02T07:30:02.276987",
     "status": "completed"
    },
    "tags": []
   },
   "outputs": [
    {
     "data": {
      "text/html": [
       "<div>\n",
       "<style scoped>\n",
       "    .dataframe tbody tr th:only-of-type {\n",
       "        vertical-align: middle;\n",
       "    }\n",
       "\n",
       "    .dataframe tbody tr th {\n",
       "        vertical-align: top;\n",
       "    }\n",
       "\n",
       "    .dataframe thead th {\n",
       "        text-align: right;\n",
       "    }\n",
       "</style>\n",
       "<table border=\"1\" class=\"dataframe\">\n",
       "  <thead>\n",
       "    <tr style=\"text-align: right;\">\n",
       "      <th></th>\n",
       "      <th>Pclass</th>\n",
       "      <th>Age</th>\n",
       "      <th>SibSp</th>\n",
       "      <th>Parch</th>\n",
       "      <th>Fare</th>\n",
       "    </tr>\n",
       "  </thead>\n",
       "  <tbody>\n",
       "    <tr>\n",
       "      <th>count</th>\n",
       "      <td>801.000000</td>\n",
       "      <td>8.010000e+02</td>\n",
       "      <td>801.000000</td>\n",
       "      <td>801.000000</td>\n",
       "      <td>8.010000e+02</td>\n",
       "    </tr>\n",
       "    <tr>\n",
       "      <th>mean</th>\n",
       "      <td>2.307116</td>\n",
       "      <td>-6.666882e-17</td>\n",
       "      <td>0.534332</td>\n",
       "      <td>0.380774</td>\n",
       "      <td>-1.490000e-17</td>\n",
       "    </tr>\n",
       "    <tr>\n",
       "      <th>std</th>\n",
       "      <td>0.831000</td>\n",
       "      <td>1.000625e+00</td>\n",
       "      <td>1.105275</td>\n",
       "      <td>0.799112</td>\n",
       "      <td>1.000625e+00</td>\n",
       "    </tr>\n",
       "    <tr>\n",
       "      <th>min</th>\n",
       "      <td>1.000000</td>\n",
       "      <td>-2.263019e+00</td>\n",
       "      <td>0.000000</td>\n",
       "      <td>0.000000</td>\n",
       "      <td>-6.414848e-01</td>\n",
       "    </tr>\n",
       "    <tr>\n",
       "      <th>25%</th>\n",
       "      <td>2.000000</td>\n",
       "      <td>-5.797203e-01</td>\n",
       "      <td>0.000000</td>\n",
       "      <td>0.000000</td>\n",
       "      <td>-4.854969e-01</td>\n",
       "    </tr>\n",
       "    <tr>\n",
       "      <th>50%</th>\n",
       "      <td>3.000000</td>\n",
       "      <td>2.083168e-02</td>\n",
       "      <td>0.000000</td>\n",
       "      <td>0.000000</td>\n",
       "      <td>-3.569019e-01</td>\n",
       "    </tr>\n",
       "    <tr>\n",
       "      <th>75%</th>\n",
       "      <td>3.000000</td>\n",
       "      <td>4.343148e-01</td>\n",
       "      <td>1.000000</td>\n",
       "      <td>0.000000</td>\n",
       "      <td>-3.131147e-02</td>\n",
       "    </tr>\n",
       "    <tr>\n",
       "      <th>max</th>\n",
       "      <td>3.000000</td>\n",
       "      <td>3.944436e+00</td>\n",
       "      <td>8.000000</td>\n",
       "      <td>6.000000</td>\n",
       "      <td>9.442696e+00</td>\n",
       "    </tr>\n",
       "  </tbody>\n",
       "</table>\n",
       "</div>"
      ],
      "text/plain": [
       "           Pclass           Age       SibSp       Parch          Fare\n",
       "count  801.000000  8.010000e+02  801.000000  801.000000  8.010000e+02\n",
       "mean     2.307116 -6.666882e-17    0.534332    0.380774 -1.490000e-17\n",
       "std      0.831000  1.000625e+00    1.105275    0.799112  1.000625e+00\n",
       "min      1.000000 -2.263019e+00    0.000000    0.000000 -6.414848e-01\n",
       "25%      2.000000 -5.797203e-01    0.000000    0.000000 -4.854969e-01\n",
       "50%      3.000000  2.083168e-02    0.000000    0.000000 -3.569019e-01\n",
       "75%      3.000000  4.343148e-01    1.000000    0.000000 -3.131147e-02\n",
       "max      3.000000  3.944436e+00    8.000000    6.000000  9.442696e+00"
      ]
     },
     "execution_count": 26,
     "metadata": {},
     "output_type": "execute_result"
    }
   ],
   "source": [
    "sc = StandardScaler()\n",
    "scaled_features = [\"Age\", \"Fare\"]\n",
    "\n",
    "sc.fit(X_train[scaled_features])\n",
    "\n",
    "for df in [X_train, X_val, X_test]:\n",
    "    df[scaled_features] = sc.transform(df[scaled_features])\n",
    "    \n",
    "X_train.describe()"
   ]
  },
  {
   "cell_type": "code",
   "execution_count": null,
   "id": "fb0c4250",
   "metadata": {
    "papermill": {
     "duration": 0.050197,
     "end_time": "2021-10-02T07:30:02.466698",
     "exception": false,
     "start_time": "2021-10-02T07:30:02.416501",
     "status": "completed"
    },
    "tags": []
   },
   "outputs": [],
   "source": []
  },
  {
   "cell_type": "markdown",
   "id": "e16687cb",
   "metadata": {
    "papermill": {
     "duration": 0.049564,
     "end_time": "2021-10-02T07:30:02.567349",
     "exception": false,
     "start_time": "2021-10-02T07:30:02.517785",
     "status": "completed"
    },
    "tags": []
   },
   "source": [
    "# Model Testing"
   ]
  },
  {
   "cell_type": "code",
   "execution_count": 27,
   "id": "0034f4b7",
   "metadata": {
    "execution": {
     "iopub.execute_input": "2021-10-02T07:30:02.674082Z",
     "iopub.status.busy": "2021-10-02T07:30:02.673046Z",
     "iopub.status.idle": "2021-10-02T07:30:02.830181Z",
     "shell.execute_reply": "2021-10-02T07:30:02.829577Z",
     "shell.execute_reply.started": "2021-10-02T07:25:04.496146Z"
    },
    "papermill": {
     "duration": 0.212843,
     "end_time": "2021-10-02T07:30:02.830345",
     "exception": false,
     "start_time": "2021-10-02T07:30:02.617502",
     "status": "completed"
    },
    "tags": []
   },
   "outputs": [
    {
     "name": "stdout",
     "output_type": "stream",
     "text": [
      "\u001b[1mSupport Vector Machine Classifier:\u001b[0m\n"
     ]
    },
    {
     "data": {
      "text/plain": [
       "0.8177406832298137"
      ]
     },
     "execution_count": 27,
     "metadata": {},
     "output_type": "execute_result"
    }
   ],
   "source": [
    "print(\"\\033[1mSupport Vector Machine Classifier:\\033[0m\")\n",
    "# model = RandomForestClassifier(n_estimators=100,\n",
    "#                                criterion=\"entropy\",\n",
    "#                                max_depth=4,\n",
    "#                                min_samples_split=4,\n",
    "#                                bootstrap=True,\n",
    "#                                max_samples=0.8,\n",
    "#                                oob_score=True,\n",
    "#                                n_jobs=-1,\n",
    "#                                random_state=0)\n",
    "model = SVC(C=11,\n",
    "            kernel=\"rbf\",\n",
    "            gamma=\"scale\",\n",
    "            break_ties=True,\n",
    "            random_state=0)\n",
    "model.fit(X_train, y_train)\n",
    "cross_val_score(model, X_train, y_train, cv=5).mean()"
   ]
  },
  {
   "cell_type": "code",
   "execution_count": 28,
   "id": "c2c40aa9",
   "metadata": {
    "execution": {
     "iopub.execute_input": "2021-10-02T07:30:02.939337Z",
     "iopub.status.busy": "2021-10-02T07:30:02.938697Z",
     "iopub.status.idle": "2021-10-02T07:30:02.954914Z",
     "shell.execute_reply": "2021-10-02T07:30:02.955534Z",
     "shell.execute_reply.started": "2021-10-02T07:25:07.742703Z"
    },
    "papermill": {
     "duration": 0.074197,
     "end_time": "2021-10-02T07:30:02.955727",
     "exception": false,
     "start_time": "2021-10-02T07:30:02.881530",
     "status": "completed"
    },
    "tags": []
   },
   "outputs": [
    {
     "name": "stdout",
     "output_type": "stream",
     "text": [
      "The accuracy of the classifier on the test set is  0.8451935081148564\n",
      "The accuracy of the classifier on the validation set is  0.8222222222222222\n"
     ]
    }
   ],
   "source": [
    "print(\"The accuracy of the classifier on the test set is \", (model.score(X_train, y_train)))\n",
    "print(\"The accuracy of the classifier on the validation set is \", (model.score(X_val, y_val)))"
   ]
  },
  {
   "cell_type": "markdown",
   "id": "181221cb",
   "metadata": {
    "papermill": {
     "duration": 0.051399,
     "end_time": "2021-10-02T07:30:03.056596",
     "exception": false,
     "start_time": "2021-10-02T07:30:03.005197",
     "status": "completed"
    },
    "tags": []
   },
   "source": [
    "# Test Data predictions"
   ]
  },
  {
   "cell_type": "code",
   "execution_count": 29,
   "id": "26a579c8",
   "metadata": {
    "execution": {
     "iopub.execute_input": "2021-10-02T07:30:03.165944Z",
     "iopub.status.busy": "2021-10-02T07:30:03.160934Z",
     "iopub.status.idle": "2021-10-02T07:30:03.182613Z",
     "shell.execute_reply": "2021-10-02T07:30:03.182121Z",
     "shell.execute_reply.started": "2021-10-02T07:24:31.540907Z"
    },
    "papermill": {
     "duration": 0.074581,
     "end_time": "2021-10-02T07:30:03.182770",
     "exception": false,
     "start_time": "2021-10-02T07:30:03.108189",
     "status": "completed"
    },
    "tags": []
   },
   "outputs": [
    {
     "data": {
      "text/html": [
       "<div>\n",
       "<style scoped>\n",
       "    .dataframe tbody tr th:only-of-type {\n",
       "        vertical-align: middle;\n",
       "    }\n",
       "\n",
       "    .dataframe tbody tr th {\n",
       "        vertical-align: top;\n",
       "    }\n",
       "\n",
       "    .dataframe thead th {\n",
       "        text-align: right;\n",
       "    }\n",
       "</style>\n",
       "<table border=\"1\" class=\"dataframe\">\n",
       "  <thead>\n",
       "    <tr style=\"text-align: right;\">\n",
       "      <th></th>\n",
       "      <th>PassengerId</th>\n",
       "      <th>Survived</th>\n",
       "    </tr>\n",
       "  </thead>\n",
       "  <tbody>\n",
       "    <tr>\n",
       "      <th>0</th>\n",
       "      <td>892</td>\n",
       "      <td>0</td>\n",
       "    </tr>\n",
       "    <tr>\n",
       "      <th>1</th>\n",
       "      <td>893</td>\n",
       "      <td>0</td>\n",
       "    </tr>\n",
       "    <tr>\n",
       "      <th>2</th>\n",
       "      <td>894</td>\n",
       "      <td>0</td>\n",
       "    </tr>\n",
       "    <tr>\n",
       "      <th>3</th>\n",
       "      <td>895</td>\n",
       "      <td>0</td>\n",
       "    </tr>\n",
       "    <tr>\n",
       "      <th>4</th>\n",
       "      <td>896</td>\n",
       "      <td>0</td>\n",
       "    </tr>\n",
       "    <tr>\n",
       "      <th>...</th>\n",
       "      <td>...</td>\n",
       "      <td>...</td>\n",
       "    </tr>\n",
       "    <tr>\n",
       "      <th>413</th>\n",
       "      <td>1305</td>\n",
       "      <td>0</td>\n",
       "    </tr>\n",
       "    <tr>\n",
       "      <th>414</th>\n",
       "      <td>1306</td>\n",
       "      <td>1</td>\n",
       "    </tr>\n",
       "    <tr>\n",
       "      <th>415</th>\n",
       "      <td>1307</td>\n",
       "      <td>0</td>\n",
       "    </tr>\n",
       "    <tr>\n",
       "      <th>416</th>\n",
       "      <td>1308</td>\n",
       "      <td>0</td>\n",
       "    </tr>\n",
       "    <tr>\n",
       "      <th>417</th>\n",
       "      <td>1309</td>\n",
       "      <td>0</td>\n",
       "    </tr>\n",
       "  </tbody>\n",
       "</table>\n",
       "<p>418 rows × 2 columns</p>\n",
       "</div>"
      ],
      "text/plain": [
       "     PassengerId  Survived\n",
       "0            892         0\n",
       "1            893         0\n",
       "2            894         0\n",
       "3            895         0\n",
       "4            896         0\n",
       "..           ...       ...\n",
       "413         1305         0\n",
       "414         1306         1\n",
       "415         1307         0\n",
       "416         1308         0\n",
       "417         1309         0\n",
       "\n",
       "[418 rows x 2 columns]"
      ]
     },
     "execution_count": 29,
     "metadata": {},
     "output_type": "execute_result"
    }
   ],
   "source": [
    "test_df[\"Survived\"] = model.predict(X_test)\n",
    "submission = test_df[[\"PassengerId\", \"Survived\"]]\n",
    "submission"
   ]
  },
  {
   "cell_type": "code",
   "execution_count": 30,
   "id": "d8488562",
   "metadata": {
    "execution": {
     "iopub.execute_input": "2021-10-02T07:30:03.289564Z",
     "iopub.status.busy": "2021-10-02T07:30:03.288928Z",
     "iopub.status.idle": "2021-10-02T07:30:03.296437Z",
     "shell.execute_reply": "2021-10-02T07:30:03.295912Z",
     "shell.execute_reply.started": "2021-10-02T07:24:31.565768Z"
    },
    "papermill": {
     "duration": 0.063457,
     "end_time": "2021-10-02T07:30:03.296596",
     "exception": false,
     "start_time": "2021-10-02T07:30:03.233139",
     "status": "completed"
    },
    "tags": []
   },
   "outputs": [],
   "source": [
    "submission.to_csv('submission.csv', index=False)"
   ]
  },
  {
   "cell_type": "code",
   "execution_count": null,
   "id": "05c2d53e",
   "metadata": {
    "papermill": {
     "duration": 0.05039,
     "end_time": "2021-10-02T07:30:03.397248",
     "exception": false,
     "start_time": "2021-10-02T07:30:03.346858",
     "status": "completed"
    },
    "tags": []
   },
   "outputs": [],
   "source": []
  }
 ],
 "metadata": {
  "kernelspec": {
   "display_name": "Python 3",
   "language": "python",
   "name": "python3"
  },
  "language_info": {
   "codemirror_mode": {
    "name": "ipython",
    "version": 3
   },
   "file_extension": ".py",
   "mimetype": "text/x-python",
   "name": "python",
   "nbconvert_exporter": "python",
   "pygments_lexer": "ipython3",
   "version": "3.7.10"
  },
  "papermill": {
   "default_parameters": {},
   "duration": 19.998791,
   "end_time": "2021-10-02T07:30:04.878681",
   "environment_variables": {},
   "exception": null,
   "input_path": "__notebook__.ipynb",
   "output_path": "__notebook__.ipynb",
   "parameters": {},
   "start_time": "2021-10-02T07:29:44.879890",
   "version": "2.3.3"
  }
 },
 "nbformat": 4,
 "nbformat_minor": 5
}
